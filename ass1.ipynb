{
 "cells": [
  {
   "cell_type": "code",
   "execution_count": 1,
   "metadata": {
    "collapsed": false
   },
   "outputs": [],
   "source": [
    "%matplotlib inline\n",
    "import numpy as np\n",
    "import pandas as pd\n",
    "from scipy import stats\n",
    "import matplotlib\n",
    "import matplotlib.pyplot as plt\n",
    "from scipy.stats import wilcoxon\n",
    "pd.set_option('html', False)\n",
    "pd.set_option('max_columns', 30)\n",
    "pd.set_option('max_rows',30)\n",
    "plt.show()\n",
    "import sys\n",
    "sys.stdout.encoding \n",
    "u'\\xf4'.encode('utf-8')\n",
    "fLoc = \"..\\\\RawText\\\\\"\n",
    "rLoc = \"..\\\\Results\\\\\""
   ]
  },
  {
   "cell_type": "markdown",
   "metadata": {},
   "source": [
    "#Load the Data"
   ]
  },
  {
   "cell_type": "code",
   "execution_count": 6,
   "metadata": {
    "collapsed": false
   },
   "outputs": [],
   "source": [
    "#Load data sets\n",
    "fileStFrancisco = \"https://raw.githubusercontent.com/uwescience/datasci_course_materials/master/assignment6/sanfrancisco_incidents_summer_2014.csv\"\n",
    "fileSeattle = \"https://raw.githubusercontent.com/uwescience/datasci_course_materials/master/assignment6/seattle_incidents_summer_2014.csv\"\n"
   ]
  },
  {
   "cell_type": "code",
   "execution_count": 7,
   "metadata": {
    "collapsed": true
   },
   "outputs": [
    {
     "name": "stderr",
     "output_type": "stream",
     "text": [
      "C:\\Users\\Lula\\Python27\\lib\\site-packages\\IPython\\core\\interactiveshell.py:2871: DtypeWarning: Columns (9) have mixed types. Specify dtype option on import or set low_memory=False.\n",
      "  interactivity=interactivity, compiler=compiler, result=result)\n"
     ]
    }
   ],
   "source": [
    "dfSF = pd.read_csv(fileStFrancisco, sep=',')\n",
    "dfSeatle = pd.read_csv(fileSeattle, sep=',')\n"
   ]
  },
  {
   "cell_type": "code",
   "execution_count": 11,
   "metadata": {
    "collapsed": false
   },
   "outputs": [
    {
     "name": "stdout",
     "output_type": "stream",
     "text": [
      "Index([u'IncidntNum', u'Category', u'Descript', u'DayOfWeek', u'Date', u'Time',\n",
      "       u'PdDistrict', u'Resolution', u'Address', u'X', u'Y', u'Location',\n",
      "       u'PdId'],\n",
      "      dtype='object')\n",
      "Index([u'RMS CDW ID', u'General Offense Number', u'Offense Code',\n",
      "       u'Offense Code Extension', u'Offense Type', u'Summary Offense Code',\n",
      "       u'Summarized Offense Description', u'Date Reported',\n",
      "       u'Occurred Date or Date Range Start', u'Occurred Date Range End',\n",
      "       u'Hundred Block Location', u'District/Sector', u'Zone/Beat',\n",
      "       u'Census Tract 2000', u'Longitude', u'Latitude', u'Location', u'Month',\n",
      "       u'Year'],\n",
      "      dtype='object')\n"
     ]
    }
   ],
   "source": [
    "print dfSF.columns\n",
    "print dfSeatle.columns"
   ]
  },
  {
   "cell_type": "code",
   "execution_count": 57,
   "metadata": {
    "collapsed": false
   },
   "outputs": [
    {
     "name": "stdout",
     "output_type": "stream",
     "text": [
      "['IncidntNum', 'Category', 'Descript', 'DayOfWeek', 'Date', 'Time', 'PdDistrict', 'Resolution', 'Address', 'X', 'Y', 'Location', 'PdId', 'Hour']\n",
      "Descript Category\n"
     ]
    },
    {
     "ename": "TypeError",
     "evalue": "unsupported operand type(s) for /: 'str' and 'int'",
     "output_type": "error",
     "traceback": [
      "\u001b[1;31m---------------------------------------------------------------------------\u001b[0m",
      "\u001b[1;31mTypeError\u001b[0m                                 Traceback (most recent call last)",
      "\u001b[1;32m<ipython-input-57-8ac9c6c78a47>\u001b[0m in \u001b[0;36m<module>\u001b[1;34m()\u001b[0m\n\u001b[0;32m      6\u001b[0m     \u001b[1;32mfor\u001b[0m \u001b[0my\u001b[0m \u001b[1;32min\u001b[0m \u001b[0mrange\u001b[0m\u001b[1;33m(\u001b[0m\u001b[0mx\u001b[0m\u001b[1;33m)\u001b[0m\u001b[1;33m:\u001b[0m\u001b[1;33m\u001b[0m\u001b[0m\n\u001b[0;32m      7\u001b[0m         \u001b[1;32mprint\u001b[0m \u001b[0mcols\u001b[0m\u001b[1;33m[\u001b[0m\u001b[0mx\u001b[0m\u001b[1;33m]\u001b[0m\u001b[1;33m,\u001b[0m\u001b[0mcols\u001b[0m\u001b[1;33m[\u001b[0m\u001b[0my\u001b[0m\u001b[1;33m]\u001b[0m\u001b[1;33m\u001b[0m\u001b[0m\n\u001b[1;32m----> 8\u001b[1;33m         \u001b[1;32mprint\u001b[0m \u001b[0mdfSF\u001b[0m\u001b[1;33m[\u001b[0m\u001b[0mcols\u001b[0m\u001b[1;33m[\u001b[0m\u001b[0mx\u001b[0m\u001b[1;33m]\u001b[0m\u001b[1;33m]\u001b[0m\u001b[1;33m.\u001b[0m\u001b[0mcorr\u001b[0m\u001b[1;33m(\u001b[0m\u001b[0mdfSF\u001b[0m\u001b[1;33m[\u001b[0m\u001b[0mcols\u001b[0m\u001b[1;33m[\u001b[0m\u001b[0my\u001b[0m\u001b[1;33m]\u001b[0m\u001b[1;33m]\u001b[0m\u001b[1;33m,\u001b[0m\u001b[1;33m)\u001b[0m\u001b[1;33m\u001b[0m\u001b[0m\n\u001b[0m\u001b[0;32m      9\u001b[0m \u001b[1;33m\u001b[0m\u001b[0m\n",
      "\u001b[1;32mC:\\Users\\Lula\\Python27\\lib\\site-packages\\pandas-0.17.1-py2.7-win32.egg\\pandas\\core\\series.pyc\u001b[0m in \u001b[0;36mcorr\u001b[1;34m(self, other, method, min_periods)\u001b[0m\n\u001b[0;32m   1310\u001b[0m             \u001b[1;32mreturn\u001b[0m \u001b[0mnp\u001b[0m\u001b[1;33m.\u001b[0m\u001b[0mnan\u001b[0m\u001b[1;33m\u001b[0m\u001b[0m\n\u001b[0;32m   1311\u001b[0m         return nanops.nancorr(this.values, other.values, method=method,\n\u001b[1;32m-> 1312\u001b[1;33m                               min_periods=min_periods)\n\u001b[0m\u001b[0;32m   1313\u001b[0m \u001b[1;33m\u001b[0m\u001b[0m\n\u001b[0;32m   1314\u001b[0m     \u001b[1;32mdef\u001b[0m \u001b[0mcov\u001b[0m\u001b[1;33m(\u001b[0m\u001b[0mself\u001b[0m\u001b[1;33m,\u001b[0m \u001b[0mother\u001b[0m\u001b[1;33m,\u001b[0m \u001b[0mmin_periods\u001b[0m\u001b[1;33m=\u001b[0m\u001b[0mNone\u001b[0m\u001b[1;33m)\u001b[0m\u001b[1;33m:\u001b[0m\u001b[1;33m\u001b[0m\u001b[0m\n",
      "\u001b[1;32mC:\\Users\\Lula\\Python27\\lib\\site-packages\\pandas-0.17.1-py2.7-win32.egg\\pandas\\core\\nanops.pyc\u001b[0m in \u001b[0;36m_f\u001b[1;34m(*args, **kwargs)\u001b[0m\n\u001b[0;32m     45\u001b[0m                                                                        '')))\n\u001b[0;32m     46\u001b[0m             \u001b[1;32mtry\u001b[0m\u001b[1;33m:\u001b[0m\u001b[1;33m\u001b[0m\u001b[0m\n\u001b[1;32m---> 47\u001b[1;33m                 \u001b[1;32mreturn\u001b[0m \u001b[0mf\u001b[0m\u001b[1;33m(\u001b[0m\u001b[1;33m*\u001b[0m\u001b[0margs\u001b[0m\u001b[1;33m,\u001b[0m \u001b[1;33m**\u001b[0m\u001b[0mkwargs\u001b[0m\u001b[1;33m)\u001b[0m\u001b[1;33m\u001b[0m\u001b[0m\n\u001b[0m\u001b[0;32m     48\u001b[0m             \u001b[1;32mexcept\u001b[0m \u001b[0mValueError\u001b[0m \u001b[1;32mas\u001b[0m \u001b[0me\u001b[0m\u001b[1;33m:\u001b[0m\u001b[1;33m\u001b[0m\u001b[0m\n\u001b[0;32m     49\u001b[0m                 \u001b[1;31m# we want to transform an object array\u001b[0m\u001b[1;33m\u001b[0m\u001b[1;33m\u001b[0m\u001b[0m\n",
      "\u001b[1;32mC:\\Users\\Lula\\Python27\\lib\\site-packages\\pandas-0.17.1-py2.7-win32.egg\\pandas\\core\\nanops.pyc\u001b[0m in \u001b[0;36mnancorr\u001b[1;34m(a, b, method, min_periods)\u001b[0m\n\u001b[0;32m    642\u001b[0m \u001b[1;33m\u001b[0m\u001b[0m\n\u001b[0;32m    643\u001b[0m     \u001b[0mf\u001b[0m \u001b[1;33m=\u001b[0m \u001b[0mget_corr_func\u001b[0m\u001b[1;33m(\u001b[0m\u001b[0mmethod\u001b[0m\u001b[1;33m)\u001b[0m\u001b[1;33m\u001b[0m\u001b[0m\n\u001b[1;32m--> 644\u001b[1;33m     \u001b[1;32mreturn\u001b[0m \u001b[0mf\u001b[0m\u001b[1;33m(\u001b[0m\u001b[0ma\u001b[0m\u001b[1;33m,\u001b[0m \u001b[0mb\u001b[0m\u001b[1;33m)\u001b[0m\u001b[1;33m\u001b[0m\u001b[0m\n\u001b[0m\u001b[0;32m    645\u001b[0m \u001b[1;33m\u001b[0m\u001b[0m\n\u001b[0;32m    646\u001b[0m \u001b[1;33m\u001b[0m\u001b[0m\n",
      "\u001b[1;32mC:\\Users\\Lula\\Python27\\lib\\site-packages\\pandas-0.17.1-py2.7-win32.egg\\pandas\\core\\nanops.pyc\u001b[0m in \u001b[0;36m_pearson\u001b[1;34m(a, b)\u001b[0m\n\u001b[0;32m    650\u001b[0m \u001b[1;33m\u001b[0m\u001b[0m\n\u001b[0;32m    651\u001b[0m     \u001b[1;32mdef\u001b[0m \u001b[0m_pearson\u001b[0m\u001b[1;33m(\u001b[0m\u001b[0ma\u001b[0m\u001b[1;33m,\u001b[0m \u001b[0mb\u001b[0m\u001b[1;33m)\u001b[0m\u001b[1;33m:\u001b[0m\u001b[1;33m\u001b[0m\u001b[0m\n\u001b[1;32m--> 652\u001b[1;33m         \u001b[1;32mreturn\u001b[0m \u001b[0mnp\u001b[0m\u001b[1;33m.\u001b[0m\u001b[0mcorrcoef\u001b[0m\u001b[1;33m(\u001b[0m\u001b[0ma\u001b[0m\u001b[1;33m,\u001b[0m \u001b[0mb\u001b[0m\u001b[1;33m)\u001b[0m\u001b[1;33m[\u001b[0m\u001b[1;36m0\u001b[0m\u001b[1;33m,\u001b[0m \u001b[1;36m1\u001b[0m\u001b[1;33m]\u001b[0m\u001b[1;33m\u001b[0m\u001b[0m\n\u001b[0m\u001b[0;32m    653\u001b[0m \u001b[1;33m\u001b[0m\u001b[0m\n\u001b[0;32m    654\u001b[0m     \u001b[1;32mdef\u001b[0m \u001b[0m_kendall\u001b[0m\u001b[1;33m(\u001b[0m\u001b[0ma\u001b[0m\u001b[1;33m,\u001b[0m \u001b[0mb\u001b[0m\u001b[1;33m)\u001b[0m\u001b[1;33m:\u001b[0m\u001b[1;33m\u001b[0m\u001b[0m\n",
      "\u001b[1;32mC:\\Users\\Lula\\Python27\\lib\\site-packages\\numpy\\lib\\function_base.pyc\u001b[0m in \u001b[0;36mcorrcoef\u001b[1;34m(x, y, rowvar, bias, ddof)\u001b[0m\n\u001b[0;32m   1949\u001b[0m \u001b[1;33m\u001b[0m\u001b[0m\n\u001b[0;32m   1950\u001b[0m     \"\"\"\n\u001b[1;32m-> 1951\u001b[1;33m     \u001b[0mc\u001b[0m \u001b[1;33m=\u001b[0m \u001b[0mcov\u001b[0m\u001b[1;33m(\u001b[0m\u001b[0mx\u001b[0m\u001b[1;33m,\u001b[0m \u001b[0my\u001b[0m\u001b[1;33m,\u001b[0m \u001b[0mrowvar\u001b[0m\u001b[1;33m,\u001b[0m \u001b[0mbias\u001b[0m\u001b[1;33m,\u001b[0m \u001b[0mddof\u001b[0m\u001b[1;33m)\u001b[0m\u001b[1;33m\u001b[0m\u001b[0m\n\u001b[0m\u001b[0;32m   1952\u001b[0m     \u001b[1;32mtry\u001b[0m\u001b[1;33m:\u001b[0m\u001b[1;33m\u001b[0m\u001b[0m\n\u001b[0;32m   1953\u001b[0m         \u001b[0md\u001b[0m \u001b[1;33m=\u001b[0m \u001b[0mdiag\u001b[0m\u001b[1;33m(\u001b[0m\u001b[0mc\u001b[0m\u001b[1;33m)\u001b[0m\u001b[1;33m\u001b[0m\u001b[0m\n",
      "\u001b[1;32mC:\\Users\\Lula\\Python27\\lib\\site-packages\\numpy\\lib\\function_base.pyc\u001b[0m in \u001b[0;36mcov\u001b[1;34m(m, y, rowvar, bias, ddof)\u001b[0m\n\u001b[0;32m   1895\u001b[0m         \u001b[0mX\u001b[0m \u001b[1;33m=\u001b[0m \u001b[0mconcatenate\u001b[0m\u001b[1;33m(\u001b[0m\u001b[1;33m(\u001b[0m\u001b[0mX\u001b[0m\u001b[1;33m,\u001b[0m \u001b[0my\u001b[0m\u001b[1;33m)\u001b[0m\u001b[1;33m,\u001b[0m \u001b[0maxis\u001b[0m\u001b[1;33m)\u001b[0m\u001b[1;33m\u001b[0m\u001b[0m\n\u001b[0;32m   1896\u001b[0m \u001b[1;33m\u001b[0m\u001b[0m\n\u001b[1;32m-> 1897\u001b[1;33m     \u001b[0mX\u001b[0m \u001b[1;33m-=\u001b[0m \u001b[0mX\u001b[0m\u001b[1;33m.\u001b[0m\u001b[0mmean\u001b[0m\u001b[1;33m(\u001b[0m\u001b[0maxis\u001b[0m\u001b[1;33m=\u001b[0m\u001b[1;36m1\u001b[0m\u001b[1;33m-\u001b[0m\u001b[0maxis\u001b[0m\u001b[1;33m,\u001b[0m \u001b[0mkeepdims\u001b[0m\u001b[1;33m=\u001b[0m\u001b[0mTrue\u001b[0m\u001b[1;33m)\u001b[0m\u001b[1;33m\u001b[0m\u001b[0m\n\u001b[0m\u001b[0;32m   1898\u001b[0m     \u001b[1;32mif\u001b[0m \u001b[1;32mnot\u001b[0m \u001b[0mrowvar\u001b[0m\u001b[1;33m:\u001b[0m\u001b[1;33m\u001b[0m\u001b[0m\n\u001b[0;32m   1899\u001b[0m         \u001b[1;32mreturn\u001b[0m \u001b[1;33m(\u001b[0m\u001b[0mdot\u001b[0m\u001b[1;33m(\u001b[0m\u001b[0mX\u001b[0m\u001b[1;33m.\u001b[0m\u001b[0mT\u001b[0m\u001b[1;33m,\u001b[0m \u001b[0mX\u001b[0m\u001b[1;33m.\u001b[0m\u001b[0mconj\u001b[0m\u001b[1;33m(\u001b[0m\u001b[1;33m)\u001b[0m\u001b[1;33m)\u001b[0m \u001b[1;33m/\u001b[0m \u001b[0mfact\u001b[0m\u001b[1;33m)\u001b[0m\u001b[1;33m.\u001b[0m\u001b[0msqueeze\u001b[0m\u001b[1;33m(\u001b[0m\u001b[1;33m)\u001b[0m\u001b[1;33m\u001b[0m\u001b[0m\n",
      "\u001b[1;32mC:\\Users\\Lula\\Python27\\lib\\site-packages\\numpy\\core\\_methods.pyc\u001b[0m in \u001b[0;36m_mean\u001b[1;34m(a, axis, dtype, out, keepdims)\u001b[0m\n\u001b[0;32m     67\u001b[0m     \u001b[1;32mif\u001b[0m \u001b[0misinstance\u001b[0m\u001b[1;33m(\u001b[0m\u001b[0mret\u001b[0m\u001b[1;33m,\u001b[0m \u001b[0mmu\u001b[0m\u001b[1;33m.\u001b[0m\u001b[0mndarray\u001b[0m\u001b[1;33m)\u001b[0m\u001b[1;33m:\u001b[0m\u001b[1;33m\u001b[0m\u001b[0m\n\u001b[0;32m     68\u001b[0m         ret = um.true_divide(\n\u001b[1;32m---> 69\u001b[1;33m                 ret, rcount, out=ret, casting='unsafe', subok=False)\n\u001b[0m\u001b[0;32m     70\u001b[0m     \u001b[1;32melif\u001b[0m \u001b[0mhasattr\u001b[0m\u001b[1;33m(\u001b[0m\u001b[0mret\u001b[0m\u001b[1;33m,\u001b[0m \u001b[1;34m'dtype'\u001b[0m\u001b[1;33m)\u001b[0m\u001b[1;33m:\u001b[0m\u001b[1;33m\u001b[0m\u001b[0m\n\u001b[0;32m     71\u001b[0m         \u001b[0mret\u001b[0m \u001b[1;33m=\u001b[0m \u001b[0mret\u001b[0m\u001b[1;33m.\u001b[0m\u001b[0mdtype\u001b[0m\u001b[1;33m.\u001b[0m\u001b[0mtype\u001b[0m\u001b[1;33m(\u001b[0m\u001b[0mret\u001b[0m \u001b[1;33m/\u001b[0m \u001b[0mrcount\u001b[0m\u001b[1;33m)\u001b[0m\u001b[1;33m\u001b[0m\u001b[0m\n",
      "\u001b[1;31mTypeError\u001b[0m: unsupported operand type(s) for /: 'str' and 'int'"
     ]
    }
   ],
   "source": [
    "cols=[x for x in dfSF.columns]\n",
    "print cols\n",
    "cols.pop(0)\n",
    "lc=len(cols)\n",
    "for x in range(lc):\n",
    "    for y in range(x):\n",
    "        print cols[x],cols[y]\n",
    "        print dfSF[cols[x]].corr(dfSF[cols[y]],)\n",
    "        "
   ]
  },
  {
   "cell_type": "code",
   "execution_count": 46,
   "metadata": {
    "collapsed": false
   },
   "outputs": [
    {
     "data": {
      "text/plain": [
       "            IncidntNum         X         Y      PdId\n",
       "IncidntNum    1.000000  0.020672  0.095959  1.000000\n",
       "X             0.020672  1.000000  0.149866  0.020672\n",
       "Y             0.095959  0.149866  1.000000  0.095959\n",
       "PdId          1.000000  0.020672  0.095959  1.000000"
      ]
     },
     "execution_count": 46,
     "metadata": {},
     "output_type": "execute_result"
    }
   ],
   "source": [
    "dfSF.corr(method='spearman')"
   ]
  },
  {
   "cell_type": "code",
   "execution_count": null,
   "metadata": {
    "collapsed": true
   },
   "outputs": [],
   "source": []
  },
  {
   "cell_type": "code",
   "execution_count": 21,
   "metadata": {
    "collapsed": false
   },
   "outputs": [
    {
     "data": {
      "text/plain": [
       "28993"
      ]
     },
     "execution_count": 21,
     "metadata": {},
     "output_type": "execute_result"
    }
   ],
   "source": [
    "len(dfSF['Category'])\n",
    "# dfSF['Location'].describe()\n"
   ]
  },
  {
   "cell_type": "code",
   "execution_count": 40,
   "metadata": {
    "collapsed": false
   },
   "outputs": [
    {
     "data": {
      "text/plain": [
       "       IncidntNum                     Category  \\\n",
       "0       140734311                        ARSON   \n",
       "1       140736317                 NON-CRIMINAL   \n",
       "2       146177923                LARCENY/THEFT   \n",
       "3       146177531                LARCENY/THEFT   \n",
       "4       140734220                 NON-CRIMINAL   \n",
       "5       140734349                DRUG/NARCOTIC   \n",
       "6       140734349                DRUG/NARCOTIC   \n",
       "7       140734349  DRIVING UNDER THE INFLUENCE   \n",
       "8       140738147               OTHER OFFENSES   \n",
       "9       140734258                     TRESPASS   \n",
       "10      140738711                VEHICLE THEFT   \n",
       "11      146178410                LARCENY/THEFT   \n",
       "12      140787570                 NON-CRIMINAL   \n",
       "13      140735604                VEHICLE THEFT   \n",
       "14      140738147                VEHICLE THEFT   \n",
       "...           ...                          ...   \n",
       "28978   140605461               OTHER OFFENSES   \n",
       "28979   140626865                LARCENY/THEFT   \n",
       "28980   140626865                LARCENY/THEFT   \n",
       "28981   140691733               OTHER OFFENSES   \n",
       "28982   140457331                        FRAUD   \n",
       "28983   140801415               OTHER OFFENSES   \n",
       "28984   146106938                LARCENY/THEFT   \n",
       "28985   141085064               OTHER OFFENSES   \n",
       "28986   146107033                LARCENY/THEFT   \n",
       "28987   146108495                LARCENY/THEFT   \n",
       "28988   140763495                 NON-CRIMINAL   \n",
       "28989   140779301                      ASSAULT   \n",
       "28990   140908839                LARCENY/THEFT   \n",
       "28991   140908839                LARCENY/THEFT   \n",
       "28992   141017556                 NON-CRIMINAL   \n",
       "\n",
       "                                                Descript DayOfWeek  \\\n",
       "0                                     ARSON OF A VEHICLE    Sunday   \n",
       "1                                          LOST PROPERTY    Sunday   \n",
       "2                           GRAND THEFT FROM LOCKED AUTO    Sunday   \n",
       "3                           GRAND THEFT FROM LOCKED AUTO    Sunday   \n",
       "4                                         FOUND PROPERTY    Sunday   \n",
       "5                                POSSESSION OF MARIJUANA    Sunday   \n",
       "6            POSSESSION OF CONTROLLED SUBSTANCE FOR SALE    Sunday   \n",
       "7           DRIVING WHILE UNDER THE INFLUENCE OF ALCOHOL    Sunday   \n",
       "8                    EVADING A POLICE OFFICER RECKLESSLY    Sunday   \n",
       "9                                            TRESPASSING    Sunday   \n",
       "10                                          STOLEN TRUCK    Sunday   \n",
       "11                               PETTY THEFT OF PROPERTY    Sunday   \n",
       "12                                         LOST PROPERTY    Sunday   \n",
       "13                                     STOLEN AUTOMOBILE    Sunday   \n",
       "14                                     STOLEN MOTORCYCLE    Sunday   \n",
       "...                                                  ...       ...   \n",
       "28978                                  FALSE PERSONATION    Sunday   \n",
       "28979  EMBEZZLEMENT FROM DEPENDENT OR ELDER ADULT BY ...    Sunday   \n",
       "28980                    THEFT OF CHECKS OR CREDIT CARDS    Sunday   \n",
       "28981     FALSE PERSONATION TO RECEIVE MONEY OR PROPERTY    Sunday   \n",
       "28982            FRAUDULENT USE OF AUTOMATED TELLER CARD    Sunday   \n",
       "28983                     VIOLATION OF RESTRAINING ORDER    Sunday   \n",
       "28984                       GRAND THEFT FROM LOCKED AUTO    Sunday   \n",
       "28985     FALSE PERSONATION TO RECEIVE MONEY OR PROPERTY    Sunday   \n",
       "28986                            GRAND THEFT OF PROPERTY    Sunday   \n",
       "28987                       GRAND THEFT FROM LOCKED AUTO    Sunday   \n",
       "28988                                      LOST PROPERTY    Sunday   \n",
       "28989                               THREATS AGAINST LIFE    Sunday   \n",
       "28990                        PETTY THEFT FROM A BUILDING    Sunday   \n",
       "28991                                PETTY THEFT BICYCLE    Sunday   \n",
       "28992                                      LOST PROPERTY    Sunday   \n",
       "\n",
       "             Date   Time  PdDistrict      Resolution  \\\n",
       "0      08/31/2014  23:50     BAYVIEW            NONE   \n",
       "1      08/31/2014  23:45     MISSION            NONE   \n",
       "2      08/31/2014  23:30    SOUTHERN            NONE   \n",
       "3      08/31/2014  23:30    RICHMOND            NONE   \n",
       "4      08/31/2014  23:23    RICHMOND            NONE   \n",
       "5      08/31/2014  23:13    SOUTHERN  ARREST, BOOKED   \n",
       "6      08/31/2014  23:13    SOUTHERN  ARREST, BOOKED   \n",
       "7      08/31/2014  23:13    SOUTHERN  ARREST, BOOKED   \n",
       "8      08/31/2014  23:00   INGLESIDE            NONE   \n",
       "9      08/31/2014  23:00     CENTRAL   ARREST, CITED   \n",
       "10     08/31/2014  23:00     CENTRAL            NONE   \n",
       "11     08/31/2014  23:00     CENTRAL            NONE   \n",
       "12     08/31/2014  23:00     MISSION            NONE   \n",
       "13     08/31/2014  23:00     MISSION            NONE   \n",
       "14     08/31/2014  23:00   INGLESIDE            NONE   \n",
       "...           ...    ...         ...             ...   \n",
       "28978  06/01/2014  00:01  TENDERLOIN            NONE   \n",
       "28979  06/01/2014  00:01  TENDERLOIN            NONE   \n",
       "28980  06/01/2014  00:01  TENDERLOIN            NONE   \n",
       "28981  06/01/2014  00:01    RICHMOND            NONE   \n",
       "28982  06/01/2014  00:01     MISSION            NONE   \n",
       "28983  06/01/2014  00:01     CENTRAL            NONE   \n",
       "28984  06/01/2014  00:01     MISSION            NONE   \n",
       "28985  06/01/2014  00:01        PARK            NONE   \n",
       "28986  06/01/2014  00:01     MISSION            NONE   \n",
       "28987  06/01/2014  00:01   INGLESIDE            NONE   \n",
       "28988  06/01/2014  00:01    SOUTHERN            NONE   \n",
       "28989  06/01/2014  00:01    SOUTHERN            NONE   \n",
       "28990  06/01/2014  00:01    NORTHERN            NONE   \n",
       "28991  06/01/2014  00:01    NORTHERN            NONE   \n",
       "28992  06/01/2014  00:01    NORTHERN            NONE   \n",
       "\n",
       "                             Address           X          Y  \\\n",
       "0          LOOMIS ST / INDUSTRIAL ST -122.405647  37.738322   \n",
       "1             400 Block of CASTRO ST -122.435012  37.761768   \n",
       "2           1000 Block of MISSION ST -122.409795  37.780036   \n",
       "3                FULTON ST / 26TH AV -122.485263  37.772518   \n",
       "4           800 Block of LA PLAYA ST -122.509895  37.772313   \n",
       "5                 11TH ST / MINNA ST -122.416578  37.773907   \n",
       "6                 11TH ST / MINNA ST -122.416578  37.773907   \n",
       "7                 11TH ST / MINNA ST -122.416578  37.773907   \n",
       "8           1400 Block of DOLORES ST -122.424498  37.746649   \n",
       "9              900 Block of MASON ST -122.410846  37.792316   \n",
       "10              800 Block of POST ST -122.415822  37.787293   \n",
       "11               300 Block of BAY ST -122.412782  37.805665   \n",
       "12          600 Block of VALENCIA ST -122.421550  37.762131   \n",
       "13     GUERRERO ST / CESAR CHAVEZ ST -122.422490  37.748014   \n",
       "14          1400 Block of DOLORES ST -122.424498  37.746649   \n",
       "...                              ...         ...        ...   \n",
       "28978           200 Block of TURK ST -122.413259  37.782951   \n",
       "28979           400 Block of TURK ST -122.416349  37.782557   \n",
       "28980           400 Block of TURK ST -122.416349  37.782557   \n",
       "28981          2500 Block of POST ST -122.443821  37.783736   \n",
       "28982          VALENCIA ST / 16TH ST -122.421886  37.764918   \n",
       "28983       100 Block of PFEIFFER ST -122.408925  37.804717   \n",
       "28984          SHOTWELL ST / 16TH ST -122.416390  37.765249   \n",
       "28985         200 Block of DOWNEY ST -122.446917  37.765385   \n",
       "28986        2300 Block of MARKET ST -122.434036  37.763294   \n",
       "28987        100 Block of DETROIT ST -122.444350  37.728685   \n",
       "28988         700 Block of MARKET ST -122.404757  37.786454   \n",
       "28989           300 Block of KING ST -122.395022  37.775313   \n",
       "28990       900 Block of FRANKLIN ST -122.422581  37.782919   \n",
       "28991       900 Block of FRANKLIN ST -122.422581  37.782919   \n",
       "28992         600 Block of LARKIN ST -122.417645  37.783553   \n",
       "\n",
       "                                    Location            PdId Hour  \n",
       "0      (37.7383221869053, -122.405646994567)  14073431126031   23  \n",
       "1      (37.7617677182954, -122.435012093789)  14073631771000   23  \n",
       "2      (37.7800356268394, -122.409795194505)  14617792306244   23  \n",
       "3      (37.7725176473142, -122.485262988324)  14617753106244   23  \n",
       "4      (37.7723131976814, -122.509895418239)  14073422072000   23  \n",
       "5       (37.773907074489, -122.416578493475)  14073434916010   23  \n",
       "6       (37.773907074489, -122.416578493475)  14073434916662   23  \n",
       "7       (37.773907074489, -122.416578493475)  14073434965050   23  \n",
       "8      (37.7466488718366, -122.424497944857)  14073814727175   23  \n",
       "9      (37.7923158747647, -122.410845624227)  14073425827195   23  \n",
       "10     (37.7872932910877, -122.415821891164)  14073871107025   23  \n",
       "11     (37.8056654684523, -122.412782236976)  14617841006372   23  \n",
       "12     (37.7621307247611, -122.421550176461)  14078757071000   23  \n",
       "13      (37.7480144418715, -122.42249041028)  14073560407021   23  \n",
       "14     (37.7466488718366, -122.424497944857)  14073814707023   23  \n",
       "...                                      ...             ...  ...  \n",
       "28978  (37.7829514828801, -122.413259498719)  14060546109027   00  \n",
       "28979  (37.7825569563078, -122.416349428183)  14062686506381   00  \n",
       "28980  (37.7825569563078, -122.416349428183)  14062686506125   00  \n",
       "28981  (37.7837356633095, -122.443820967808)  14069173309029   00  \n",
       "28982  (37.7649178909424, -122.421886357981)  14045733109250   00  \n",
       "28983  (37.8047174943139, -122.408924999704)  14080141515161   00  \n",
       "28984  (37.7652491154383, -122.416389710283)  14610693806244   00  \n",
       "28985  (37.7653845336286, -122.446916939832)  14108506409029   00  \n",
       "28986   (37.7632941952462, -122.43403618214)  14610703306374   00  \n",
       "28987  (37.7286852958895, -122.444349849922)  14610849506244   00  \n",
       "28988  (37.7864540511999, -122.404756583284)  14076349571000   00  \n",
       "28989  (37.7753128522284, -122.395021745914)  14077930119057   00  \n",
       "28990   (37.7829192180689, -122.42258112165)  14090883906303   00  \n",
       "28991   (37.7829192180689, -122.42258112165)  14090883906313   00  \n",
       "28992  (37.7835527835511, -122.417645333839)  14101755671000   00  \n",
       "\n",
       "[28993 rows x 14 columns]"
      ]
     },
     "execution_count": 40,
     "metadata": {},
     "output_type": "execute_result"
    }
   ],
   "source": [
    "dfSF['Hour'] = [x[0] for x in dfSF['Time'].str.split(':')]\n",
    "dfSF"
   ]
  },
  {
   "cell_type": "markdown",
   "metadata": {},
   "source": [
    "##CST Lemmatiser"
   ]
  },
  {
   "cell_type": "code",
   "execution_count": 3,
   "metadata": {
    "collapsed": false
   },
   "outputs": [
    {
     "name": "stdout",
     "output_type": "stream",
     "text": [
      "            CST       std\n",
      "5000   0.641881  0.008516\n",
      "7500   0.683342  0.011192\n",
      "10000  0.687756  0.008466\n",
      "15000  0.714136  0.004782\n",
      "20000  0.761902  0.010309\n",
      "25000  0.779821  0.010176\n",
      "30000  0.778823  0.010893\n",
      "35000  0.786915  0.004448\n",
      "[0.6418812401471361, 0.68334209143457691, 0.68775617446137682, 0.71413557540725159, 0.76190225959012081, 0.77982133473462945, 0.77882291119285341, 0.78691539674198641]\n",
      "[(0.63545951913921195, 0.64830296115506025), (0.67490255870044047, 0.69178162416871336), (0.68137234004373981, 0.69414000887901384), (0.71052997246454341, 0.71774117834995976), (0.7541285010856279, 0.76967601809461372), (0.7721481021038713, 0.78749456736538759), (0.77060918248411658, 0.78703663990159023), (0.78356133673307748, 0.79026945675089533)]\n"
     ]
    },
    {
     "data": {
      "image/png": "[encoded data removed]",
      "text/plain": [
       "<matplotlib.figure.Figure at 0x699df90>"
      ]
     },
     "metadata": {},
     "output_type": "display_data"
    }
   ],
   "source": [
    "#Load Saved Statistics (..\\Rawtext\\CST-Trend-IsiXhosa-Results.text)\n",
    "cst_results_file = file(fLoc+ \"CST-Trend-IsiXhosa-Results.valTF.text\")\n",
    "str_cst_results = cst_results_file.read()\n",
    "cst_results = eval(str_cst_results)\n",
    "# print cst_results\n",
    "#Calculate means and standard deviations\n",
    "cstblindMeans = [ np.mean(x) for x in cst_results[\"blindAccMatrix\"] ]\n",
    "cstblindStd = [ np.std(x) for x in cst_results[\"blindAccMatrix\"] ]\n",
    "Acc = pd.DataFrame(cstblindMeans,index=cst_results[\"trainSize\"], columns=['CST'])\n",
    "Acc['std']=cstblindStd\n",
    "print Acc\n",
    "Acc.plot()\n",
    "#Blind TF\n",
    "cstblindTFMeans = [ np.mean(x) for x in cst_results[\"blindTFAccMatrix\"] ]\n",
    "cstblindTFStd = [ np.std(x) for x in cst_results[\"blindTFAccMatrix\"] ]\n",
    "#Calculate Confidence interval for 95% confidence\n",
    "# cstCIs = [stats.norm.interval(0.95, loc=cstblindMeans[i], scale=cstblindStd[i]) for i in range(len(cstblindMeans))]\n",
    "cstCIs = [mean_confidence_interval(i)[1:] for i in cst_results[\"blindAccMatrix\"]]\n",
    "print cstblindMeans\n",
    "print cstCIs"
   ]
  },
  {
   "cell_type": "markdown",
   "metadata": {},
   "source": [
    "##Lemmagen Lemmatiser"
   ]
  },
  {
   "cell_type": "code",
   "execution_count": 4,
   "metadata": {
    "collapsed": false
   },
   "outputs": [
    {
     "name": "stdout",
     "output_type": "stream",
     "text": [
      "[0.6667892800840779, 0.71339989490278499, 0.72858644245927484, 0.74456121912769313, 0.79653179190751455, 0.81261166579085642, 0.81487125591171827, 0.83252758801891757]\n",
      "[(0.66133476836707483, 0.67224379180108096), (0.70708182144384368, 0.7197179683617263), (0.72190353110923577, 0.73526935380931391), (0.74147941861290456, 0.7476430196424817), (0.7871352091668421, 0.80592837464818701), (0.80323448574805467, 0.82198884583365817), (0.80682437961923414, 0.8229181322042024), (0.83037871752134074, 0.83467645851649441)]\n"
     ]
    }
   ],
   "source": [
    "#Load Saved Statistics (..\\Rawtext\\LemmaGen-Trend-IsiXhosa-Results.text)\n",
    "lg_results_file = file(fLoc+ \"LemmaGen-Trend-IsiXhosa-Results.valTF.text\")\n",
    "str_lg_results = lg_results_file.read()\n",
    "lg_results = eval(str_lg_results)\n",
    "# print cst_results\n",
    "#Calculate means and standard deviations\n",
    "lgblindMeans = [ np.mean(x) for x in lg_results[\"blindAccMatrix\"] ]\n",
    "lgblindStd = [ np.std(x) for x in lg_results[\"blindAccMatrix\"] ]\n",
    "\n",
    "#Calculate means and standard deviations\n",
    "lgblindTFMeans = [ np.mean(x) for x in lg_results[\"blindTFAccMatrix\"] ]\n",
    "lgblindTFStd = [ np.std(x) for x in lg_results[\"blindTFAccMatrix\"] ]\n",
    "#Calculate Confidence interval for 95% confidence\n",
    "# lgCIs = [stats.norm.interval(0.95, loc=lgblindMeans[i], scale=lgblindStd[i]) for i in range(len(lgblindMeans))]\n",
    "lgCIs = [mean_confidence_interval(i)[1:] for i in lg_results[\"blindAccMatrix\"]]\n",
    "print lgblindMeans\n",
    "print lgCIs"
   ]
  },
  {
   "cell_type": "markdown",
   "metadata": {},
   "source": [
    "##XGL Lemmatiser"
   ]
  },
  {
   "cell_type": "code",
   "execution_count": 5,
   "metadata": {
    "collapsed": false
   },
   "outputs": [
    {
     "name": "stdout",
     "output_type": "stream",
     "text": [
      "[0.67966368891224382, 0.70578034682080926, 0.73168681029952709, 0.75638465580662118, 0.80420388859695213, 0.82800840777719387, 0.82900683131897002, 0.84561219127693121]\n",
      "[(0.67341558520145606, 0.68591179262303159), (0.70201102667873994, 0.70954966696287858), (0.72557848013955217, 0.73779514045950201), (0.75173591788380134, 0.76103339372944101), (0.7971107884338553, 0.81129698876004896), (0.82082763941376224, 0.83518917614062549), (0.82190930543624174, 0.83610435720169829), (0.84302717346000544, 0.84819720909385699)]\n"
     ]
    }
   ],
   "source": [
    "#Load Saved Statistics (..\\Rawtext\\XGL-Trend-IsiXhosa-Results.text)\n",
    "xgl_results_file = file(fLoc+ \"XGL-Trend-IsiXhosa-Results.valTF.text\")\n",
    "str_xgl_results = xgl_results_file.read()\n",
    "xgl_results = eval(str_xgl_results)\n",
    "# print cst_results\n",
    "#Calculate means and standard deviations\n",
    "xglblindMeans = [ np.mean(x) for x in xgl_results[\"blindAccMatrix\"] ]\n",
    "xglblindStd = [ np.std(x) for x in xgl_results[\"blindAccMatrix\"] ]\n",
    "\n",
    "#Calculate means and standard deviations\n",
    "xglblindTFMeans = [ np.mean(x) for x in xgl_results[\"blindTFAccMatrix\"] ]\n",
    "xglblindTFStd = [ np.std(x) for x in xgl_results[\"blindTFAccMatrix\"] ]\n",
    "# xglCIs = [stats.norm.interval(0.95, loc=xglblindMeans[i], scale=xglblindStd[i]) for i in range(len(xglblindMeans))]\n",
    "xglCIs = [mean_confidence_interval(i)[1:] for i in xgl_results[\"blindAccMatrix\"]]\n",
    "print xglblindMeans\n",
    "print xglCIs"
   ]
  },
  {
   "cell_type": "markdown",
   "metadata": {},
   "source": [
    "##Accuracy rates on Testing Set"
   ]
  },
  {
   "cell_type": "code",
   "execution_count": 6,
   "metadata": {
    "collapsed": false
   },
   "outputs": [
    {
     "name": "stdout",
     "output_type": "stream",
     "text": [
      "            CST  LemmaGen       XGL\n",
      "5000   0.641881  0.666789  0.679664\n",
      "7500   0.683342  0.713400  0.705780\n",
      "10000  0.687756  0.728586  0.731687\n",
      "15000  0.714136  0.744561  0.756385\n",
      "20000  0.761902  0.796532  0.804204\n",
      "25000  0.779821  0.812612  0.828008\n",
      "30000  0.778823  0.814871  0.829007\n",
      "35000  0.786915  0.832528  0.845612\n"
     ]
    },
    {
     "name": "stderr",
     "output_type": "stream",
     "text": [
      "C:\\Python27\\lib\\site-packages\\matplotlib\\axes.py:4747: UserWarning: No labeled objects found. Use label='...' kwarg on individual plots.\n",
      "  warnings.warn(\"No labeled objects found. \"\n"
     ]
    },
    {
     "data": {
      "image/png": "[encoded data removed]",
      "text/plain": [
       "<matplotlib.figure.Figure at 0x699dc70>"
      ]
     },
     "metadata": {},
     "output_type": "display_data"
    }
   ],
   "source": [
    "\n",
    "trainSize = cst_results[\"trainSize\"]\n",
    "fig = plt.figure()\n",
    "fig.suptitle('Accuracy by training set size', fontsize=20)\n",
    "plt.xlabel('Training set size', fontsize=18)\n",
    "plt.ylabel('Accuracy', fontsize=16)\n",
    "plt.legend( loc='upper left', numpoints = 1 )\n",
    "\n",
    "Acc = pd.DataFrame(cstblindMeans,index=trainSize, columns=['CST'])\n",
    "Acc['LemmaGen'] = lgblindMeans\n",
    "Acc['XGL'] = xglblindMeans\n",
    "print Acc\n",
    "\n",
    "plt.plot(trainSize,cstblindMeans,\"b-.v\", label='CST',)\n",
    "plt.plot(trainSize,lgblindMeans,\"g--o\",label='LemmaGen',)\n",
    "plt.plot(trainSize,xglblindMeans,\"r->\",label='XGL' )\n",
    "plt.legend( loc='upper left', numpoints = 1 )\n",
    "plt.grid(True)\n",
    "plt.savefig(rLoc+\"CST-LG-XGL-Acc-val.png\")"
   ]
  },
  {
   "cell_type": "markdown",
   "metadata": {},
   "source": [
    "##Accuracy Rates on General Set"
   ]
  },
  {
   "cell_type": "code",
   "execution_count": 7,
   "metadata": {
    "collapsed": false
   },
   "outputs": [
    {
     "name": "stdout",
     "output_type": "stream",
     "text": [
      "            CST  LemmaGen       XGL\n",
      "5000   0.562188  0.396568  0.435988\n",
      "7500   0.584154  0.436855  0.475750\n",
      "10000  0.620432  0.465167  0.503690\n",
      "15000  0.658506  0.519289  0.557632\n",
      "20000  0.695905  0.558596  0.597300\n",
      "25000  0.716976  0.585849  0.619297\n",
      "30000  0.735914  0.616112  0.647195\n",
      "35000  0.753485  0.642606  0.668795\n"
     ]
    },
    {
     "data": {
      "image/png": "[encoded data removed]",
      "text/plain": [
       "<matplotlib.figure.Figure at 0x6a68730>"
      ]
     },
     "metadata": {},
     "output_type": "display_data"
    }
   ],
   "source": [
    "\n",
    "trainSize = cst_results[\"trainSize\"]\n",
    "fig = plt.figure()\n",
    "fig.suptitle('Accuracy by training set size', fontsize=20)\n",
    "plt.xlabel('Training set size', fontsize=18)\n",
    "plt.ylabel('Accuracy', fontsize=16)\n",
    "plt.legend( loc='upper left', numpoints = 1 )\n",
    "\n",
    "Acc = pd.DataFrame(cstblindTFMeans,index=trainSize, columns=['CST'])\n",
    "Acc['LemmaGen'] = lgblindTFMeans\n",
    "Acc['XGL'] = xglblindTFMeans\n",
    "print Acc\n",
    "plt.plot(trainSize,cstblindTFMeans,\"b-.v\", label='CST',)\n",
    "plt.plot(trainSize,lgblindTFMeans,\"g--o\",label='LemmaGen',)\n",
    "plt.plot(trainSize,xglblindTFMeans,\"r->\",label='XGL' )\n",
    "plt.legend( loc='upper left', numpoints = 1 )\n",
    "plt.grid(True)\n",
    "plt.savefig(rLoc+\"CST-LG-XGL-Acc-TF-val.png\")"
   ]
  },
  {
   "cell_type": "markdown",
   "metadata": {},
   "source": [
    "#CST Lemmatiser accuracy between the10-fold test and test corpus data"
   ]
  },
  {
   "cell_type": "code",
   "execution_count": 8,
   "metadata": {
    "collapsed": false
   },
   "outputs": [
    {
     "data": {
      "image/png": "[encoded data removed]",
      "text/plain": [
       "<matplotlib.figure.Figure at 0x6b8b7f0>"
      ]
     },
     "metadata": {},
     "output_type": "display_data"
    }
   ],
   "source": [
    "\n",
    "trainSize = cst_results[\"trainSize\"]\n",
    "fig = plt.figure()\n",
    "fig.suptitle('Accuracy by training set size', fontsize=20)\n",
    "plt.xlabel('Training set size', fontsize=18)\n",
    "plt.ylabel('CST Accuracy', fontsize=16)\n",
    "plt.legend( loc='upper left', numpoints = 1 )\n",
    "\n",
    "plt.plot(trainSize,cstblindMeans,\"b-.v\", label='test corpus set',)\n",
    "plt.plot(trainSize,cstblindTFMeans,\"g--o\",label='10-Fold test data',)\n",
    "# plt.plot(trainSize,xglblindTFMeans,\"r->\",label='XGL' )\n",
    "plt.legend( loc='upper left', numpoints = 1 )\n",
    "plt.grid(True)\n",
    "plt.savefig(rLoc+\"CST-TFvsTestCorpus-Acc-val.png\")"
   ]
  },
  {
   "cell_type": "code",
   "execution_count": 9,
   "metadata": {
    "collapsed": false
   },
   "outputs": [
    {
     "data": {
      "image/png": "[encoded data removed]",
      "text/plain": [
       "<matplotlib.figure.Figure at 0x6a55030>"
      ]
     },
     "metadata": {},
     "output_type": "display_data"
    }
   ],
   "source": [
    "\n",
    "trainSize = cst_results[\"trainSize\"]\n",
    "fig = plt.figure()\n",
    "fig.suptitle('Accuracy by training set size', fontsize=20)\n",
    "plt.xlabel('Training set size', fontsize=18)\n",
    "plt.ylabel('LemmaGen Accuracy', fontsize=16)\n",
    "plt.legend( loc='upper left', numpoints = 1 )\n",
    "\n",
    "plt.plot(trainSize,lgblindMeans,\"b-.v\", label='test corpus set',)\n",
    "plt.plot(trainSize,lgblindTFMeans,\"g--o\",label='10-Fold test data',)\n",
    "# plt.plot(trainSize,xglblindTFMeans,\"r->\",label='XGL' )\n",
    "plt.legend( loc='upper left', numpoints = 1 )\n",
    "plt.grid(True)\n",
    "plt.savefig(rLoc+\"LemmaGen-TFvsTestCorpus-Acc-val.png\")"
   ]
  },
  {
   "cell_type": "code",
   "execution_count": 10,
   "metadata": {
    "collapsed": false
   },
   "outputs": [
    {
     "data": {
      "image/png": "[encoded data removed]",
      "text/plain": [
       "<matplotlib.figure.Figure at 0x6a6e830>"
      ]
     },
     "metadata": {},
     "output_type": "display_data"
    }
   ],
   "source": [
    "\n",
    "trainSize = cst_results[\"trainSize\"]\n",
    "fig = plt.figure()\n",
    "fig.suptitle('Accuracy by training set size', fontsize=20)\n",
    "plt.xlabel('Training set size', fontsize=18)\n",
    "plt.ylabel('XGL Accuracy', fontsize=16)\n",
    "plt.legend( loc='upper left', numpoints = 1 )\n",
    "\n",
    "plt.plot(trainSize,xglblindMeans,\"b-.v\", label='test corpus set',)\n",
    "plt.plot(trainSize,xglblindTFMeans,\"g--o\",label='10-Fold test data',)\n",
    "# plt.plot(trainSize,xglblindTFMeans,\"r->\",label='XGL' )\n",
    "plt.legend( loc='upper left', numpoints = 1 )\n",
    "plt.grid(True)\n",
    "plt.savefig(rLoc+\"XGL-TFvsTestCorpus-Acc-val.png\")"
   ]
  },
  {
   "cell_type": "markdown",
   "metadata": {},
   "source": [
    "##F-Measure on Testing Set"
   ]
  },
  {
   "cell_type": "code",
   "execution_count": 11,
   "metadata": {
    "collapsed": false
   },
   "outputs": [
    {
     "name": "stdout",
     "output_type": "stream",
     "text": [
      "            CST  LemmaGen       XGL\n",
      "5000   0.438382  0.503145  0.638200\n",
      "7500   0.477119  0.532425  0.645264\n",
      "10000  0.482835  0.538716  0.651771\n",
      "15000  0.511242  0.548065  0.661735\n",
      "20000  0.579488  0.618201  0.717204\n",
      "25000  0.598079  0.640563  0.738852\n",
      "30000  0.605595  0.642881  0.727322\n",
      "35000  0.615424  0.656391  0.733435\n",
      "       XGL-LemmaGen  LemmaGen-CST   XGL-CST\n",
      "5000       0.005062      0.005062  0.005062\n",
      "7500       0.005062      0.005062  0.005062\n",
      "10000      0.005062      0.005062  0.005062\n",
      "15000      0.005062      0.005062  0.005062\n",
      "20000      0.005062      0.005062  0.005062\n",
      "25000      0.005062      0.005062  0.005062\n",
      "30000      0.005062      0.005062  0.005062\n",
      "35000      0.005062      0.005062  0.005062\n"
     ]
    },
    {
     "data": {
      "image/png": "[encoded data removed]",
      "text/plain": [
       "<matplotlib.figure.Figure at 0x6ceaf30>"
      ]
     },
     "metadata": {},
     "output_type": "display_data"
    }
   ],
   "source": [
    "trainSize = cst_results[\"trainSize\"]\n",
    "fig = plt.figure()\n",
    "fig.suptitle('F-measure by training set size', fontsize=20)\n",
    "plt.xlabel('Training set size', fontsize=18)\n",
    "plt.ylabel('F-Measure', fontsize=16)\n",
    "plt.legend( loc='upper left', numpoints = 1 )\n",
    "\n",
    "xglfMeasureMean= [ np.mean(x) for x in xgl_results[\"fMeasureMatrix\"] ]\n",
    "cstfMeasureMean= [ np.mean(x) for x in cst_results[\"fMeasureMatrix\"] ]\n",
    "lgfMeasureMean= [ np.mean(x) for x in lg_results[\"fMeasureMatrix\"] ]\n",
    "FMeasure = pd.DataFrame(cstfMeasureMean,index=trainSize, columns=['CST'])\n",
    "FMeasure['LemmaGen'] = lgfMeasureMean\n",
    "FMeasure['XGL'] = xglfMeasureMean\n",
    "print FMeasure\n",
    "\n",
    "plt.plot(trainSize,cstfMeasureMean,\"b-.v\", label='CST',)\n",
    "plt.plot(trainSize,lgfMeasureMean,\"g--o\",label='LemmaGen',)\n",
    "plt.plot(trainSize,xglfMeasureMean,\"r->\",label='XGL' )\n",
    "plt.legend( loc='upper left', numpoints = 1 )\n",
    "plt.grid(True)\n",
    "plt.savefig(rLoc+\"CST-LG-XGL-F-val.png\")\n",
    "wilc_XGL_CST = [wilcoxon(xgl_results[\"fMeasureMatrix\"][i],cst_results[\"fMeasureMatrix\"][i]) for i in range(len(trainSize))]\n",
    "# print \"wilc_XGL_CST :%s\" % [(i[0],i[1]) for i in wilc_XGL_CST]\n",
    "wilc_XGL_LG = [wilcoxon(xgl_results[\"fMeasureMatrix\"][i],lg_results[\"fMeasureMatrix\"][i]) for i in range(len(trainSize))]\n",
    "# print \"wilc_XGL_LG :%s\" % [(i[0],i[1]) for i in wilc_XGL_LG]\n",
    "wilc_CST_LG = [wilcoxon(cst_results[\"fMeasureMatrix\"][i],lg_results[\"fMeasureMatrix\"][i]) for i in range(len(trainSize))]\n",
    "# print \"wilc_CST_LG :%s\" % [(i[0],i[1]) for i in wilc_CST_LG]\n",
    "\n",
    "FWilcoxon = pd.DataFrame([i[1] for i in wilc_XGL_LG], index=trainSize, columns=['XGL-LemmaGen'])\n",
    "FWilcoxon['LemmaGen-CST'] = [i[1] for i in wilc_CST_LG]\n",
    "FWilcoxon['XGL-CST'] = [i[1] for i in wilc_XGL_CST]\n",
    "print FWilcoxon"
   ]
  },
  {
   "cell_type": "markdown",
   "metadata": {},
   "source": [
    "##F-Measure on General Set"
   ]
  },
  {
   "cell_type": "code",
   "execution_count": 12,
   "metadata": {
    "collapsed": false
   },
   "outputs": [
    {
     "name": "stdout",
     "output_type": "stream",
     "text": [
      "            CST  LemmaGen       XGL\n",
      "5000   0.525834  0.503321  0.624975\n",
      "7500   0.548359  0.511190  0.650253\n",
      "10000  0.556757  0.504006  0.659441\n",
      "15000  0.591125  0.502065  0.678514\n",
      "20000  0.611124  0.506110  0.686719\n",
      "25000  0.623983  0.509874  0.687342\n",
      "30000  0.646332  0.524570  0.704177\n",
      "35000  0.689370  0.601912  0.739169\n",
      "       XGL-LemmaGen  LemmaGen-CST   XGL-CST\n",
      "5000       0.005062      0.028417  0.005062\n",
      "7500       0.005062      0.059336  0.005062\n",
      "10000      0.005062      0.036658  0.005062\n",
      "15000      0.005062      0.005062  0.005062\n",
      "20000      0.005062      0.005062  0.005062\n",
      "25000      0.005062      0.005062  0.006910\n",
      "30000      0.005062      0.005062  0.005062\n",
      "35000      0.005062      0.005062  0.005062\n"
     ]
    },
    {
     "data": {
      "image/png": "[encoded data removed]",
      "text/plain": [
       "<matplotlib.figure.Figure at 0x6b85bb0>"
      ]
     },
     "metadata": {},
     "output_type": "display_data"
    }
   ],
   "source": [
    "trainSize = cst_results[\"trainSize\"]\n",
    "fig = plt.figure()\n",
    "fig.suptitle('F-measure by training set size', fontsize=20)\n",
    "plt.xlabel('Training set size', fontsize=18)\n",
    "plt.ylabel('F-Measure', fontsize=16)\n",
    "plt.legend( loc='upper left', numpoints = 1 )\n",
    "\n",
    "xglTFfMeasureMean= [ np.mean(x) for x in xgl_results[\"TFfMeasureMatrix\"] ]\n",
    "cstTFfMeasureMean= [ np.mean(x) for x in cst_results[\"TFfMeasureMatrix\"] ]\n",
    "lgTFfMeasureMean= [ np.mean(x) for x in lg_results[\"TFfMeasureMatrix\"] ]\n",
    "\n",
    "FMeasure = pd.DataFrame(cstTFfMeasureMean,index=trainSize, columns=['CST'])\n",
    "FMeasure['LemmaGen'] = lgTFfMeasureMean\n",
    "FMeasure['XGL'] = xglTFfMeasureMean\n",
    "print FMeasure\n",
    "\n",
    "plt.plot(trainSize,cstTFfMeasureMean,\"b-.v\", label='CST',)\n",
    "plt.plot(trainSize,lgTFfMeasureMean,\"g--o\",label='LemmaGen',)\n",
    "plt.plot(trainSize,xglTFfMeasureMean,\"r->\",label='XGL' )\n",
    "plt.legend( loc='upper left', numpoints = 1 )\n",
    "plt.grid(True)\n",
    "plt.savefig(rLoc+\"CST-LG-XGL-TF-F-val.png\")\n",
    "\n",
    "wilc_XGL_CST = [wilcoxon(xgl_results[\"TFfMeasureMatrix\"][i],cst_results[\"TFfMeasureMatrix\"][i]) for i in range(len(trainSize))]\n",
    "# print \"wilc_XGL_CST :%s\" % [(i[0],i[1]) for i in wilc_XGL_CST]\n",
    "wilc_XGL_LG = [wilcoxon(xgl_results[\"TFfMeasureMatrix\"][i],lg_results[\"TFfMeasureMatrix\"][i]) for i in range(len(trainSize))]\n",
    "# print \"wilc_XGL_LG :%s\" % [(i[0],i[1]) for i in wilc_XGL_LG]\n",
    "wilc_CST_LG = [wilcoxon(cst_results[\"TFfMeasureMatrix\"][i],lg_results[\"TFfMeasureMatrix\"][i]) for i in range(len(trainSize))]\n",
    "# print \"wilc_CST_LG :%s\" % [(i[0],i[1]) for i in wilc_CST_LG]\n",
    "\n",
    "FTFWilcoxon = pd.DataFrame([i[1] for i in wilc_XGL_LG], index=trainSize, columns=['XGL-LemmaGen'])\n",
    "FTFWilcoxon['LemmaGen-CST'] = [i[1] for i in wilc_CST_LG]\n",
    "FTFWilcoxon['XGL-CST'] = [i[1] for i in wilc_XGL_CST]\n",
    "print FTFWilcoxon"
   ]
  },
  {
   "cell_type": "markdown",
   "metadata": {},
   "source": [
    "##Known word accuracy on Testing Set"
   ]
  },
  {
   "cell_type": "code",
   "execution_count": 13,
   "metadata": {
    "collapsed": false
   },
   "outputs": [
    {
     "name": "stdout",
     "output_type": "stream",
     "text": [
      "            CST  LemmaGen       XGL\n",
      "5000   0.997366  0.990935  0.997366\n",
      "7500   0.997720  0.995062  0.997720\n",
      "10000  0.997882  0.995412  0.997882\n",
      "15000  0.998043  0.989374  0.998043\n",
      "20000  0.996444  0.991441  0.996444\n",
      "25000  0.996584  0.991689  0.996584\n",
      "30000  0.993468  0.988215  0.993468\n",
      "35000  0.993133  0.989751  0.993133\n"
     ]
    },
    {
     "name": "stderr",
     "output_type": "stream",
     "text": [
      "C:\\Python27\\lib\\site-packages\\scipy\\stats\\morestats.py:1961: UserWarning: Warning: sample size too small for normal approximation.\n",
      "  warnings.warn(\"Warning: sample size too small for normal approximation.\")\n"
     ]
    },
    {
     "ename": "ValueError",
     "evalue": "failed to create intent(cache|hide)|optional array-- must have defined dimensions but got (0,)",
     "output_type": "error",
     "traceback": [
      "\u001b[1;31m---------------------------------------------------------------------------\u001b[0m",
      "\u001b[1;31mValueError\u001b[0m                                Traceback (most recent call last)",
      "\u001b[1;32m<ipython-input-13-8615c70e5f13>\u001b[0m in \u001b[0;36m<module>\u001b[1;34m()\u001b[0m\n\u001b[0;32m     22\u001b[0m \u001b[0mplt\u001b[0m\u001b[1;33m.\u001b[0m\u001b[0msavefig\u001b[0m\u001b[1;33m(\u001b[0m\u001b[0mrLoc\u001b[0m\u001b[1;33m+\u001b[0m\u001b[1;34m\"CST-LG-XGL-Known-Acc-eval.png\"\u001b[0m\u001b[1;33m)\u001b[0m\u001b[1;33m\u001b[0m\u001b[0m\n\u001b[0;32m     23\u001b[0m \u001b[1;33m\u001b[0m\u001b[0m\n\u001b[1;32m---> 24\u001b[1;33m \u001b[0mwilc_XGL_CST\u001b[0m \u001b[1;33m=\u001b[0m \u001b[1;33m[\u001b[0m\u001b[0mwilcoxon\u001b[0m\u001b[1;33m(\u001b[0m\u001b[0mxgl_results\u001b[0m\u001b[1;33m[\u001b[0m\u001b[1;34m\"knownAccMatrix\"\u001b[0m\u001b[1;33m]\u001b[0m\u001b[1;33m[\u001b[0m\u001b[0mi\u001b[0m\u001b[1;33m]\u001b[0m\u001b[1;33m,\u001b[0m\u001b[0mcst_results\u001b[0m\u001b[1;33m[\u001b[0m\u001b[1;34m\"knownAccMatrix\"\u001b[0m\u001b[1;33m]\u001b[0m\u001b[1;33m[\u001b[0m\u001b[0mi\u001b[0m\u001b[1;33m]\u001b[0m\u001b[1;33m)\u001b[0m \u001b[1;32mfor\u001b[0m \u001b[0mi\u001b[0m \u001b[1;32min\u001b[0m \u001b[0mrange\u001b[0m\u001b[1;33m(\u001b[0m\u001b[0mlen\u001b[0m\u001b[1;33m(\u001b[0m\u001b[0mtrainSize\u001b[0m\u001b[1;33m)\u001b[0m\u001b[1;33m)\u001b[0m\u001b[1;33m]\u001b[0m\u001b[1;33m\u001b[0m\u001b[0m\n\u001b[0m\u001b[0;32m     25\u001b[0m \u001b[1;31m# print \"wilc_XGL_CST :%s\" % [(i[0],i[1]) for i in wilc_XGL_CST]\u001b[0m\u001b[1;33m\u001b[0m\u001b[1;33m\u001b[0m\u001b[0m\n\u001b[0;32m     26\u001b[0m \u001b[0mwilc_XGL_LG\u001b[0m \u001b[1;33m=\u001b[0m \u001b[1;33m[\u001b[0m\u001b[0mwilcoxon\u001b[0m\u001b[1;33m(\u001b[0m\u001b[0mxgl_results\u001b[0m\u001b[1;33m[\u001b[0m\u001b[1;34m\"knownAccMatrix\"\u001b[0m\u001b[1;33m]\u001b[0m\u001b[1;33m[\u001b[0m\u001b[0mi\u001b[0m\u001b[1;33m]\u001b[0m\u001b[1;33m,\u001b[0m\u001b[0mlg_results\u001b[0m\u001b[1;33m[\u001b[0m\u001b[1;34m\"knownAccMatrix\"\u001b[0m\u001b[1;33m]\u001b[0m\u001b[1;33m[\u001b[0m\u001b[0mi\u001b[0m\u001b[1;33m]\u001b[0m\u001b[1;33m)\u001b[0m \u001b[1;32mfor\u001b[0m \u001b[0mi\u001b[0m \u001b[1;32min\u001b[0m \u001b[0mrange\u001b[0m\u001b[1;33m(\u001b[0m\u001b[0mlen\u001b[0m\u001b[1;33m(\u001b[0m\u001b[0mtrainSize\u001b[0m\u001b[1;33m)\u001b[0m\u001b[1;33m)\u001b[0m\u001b[1;33m]\u001b[0m\u001b[1;33m\u001b[0m\u001b[0m\n",
      "\u001b[1;32mC:\\Python27\\lib\\site-packages\\scipy\\stats\\morestats.pyc\u001b[0m in \u001b[0;36mwilcoxon\u001b[1;34m(x, y, zero_method, correction)\u001b[0m\n\u001b[0;32m   1976\u001b[0m         \u001b[0mr\u001b[0m \u001b[1;33m=\u001b[0m \u001b[0mr\u001b[0m\u001b[1;33m[\u001b[0m\u001b[0md\u001b[0m \u001b[1;33m!=\u001b[0m \u001b[1;36m0\u001b[0m\u001b[1;33m]\u001b[0m\u001b[1;33m\u001b[0m\u001b[0m\n\u001b[0;32m   1977\u001b[0m \u001b[1;33m\u001b[0m\u001b[0m\n\u001b[1;32m-> 1978\u001b[1;33m     \u001b[0mreplist\u001b[0m\u001b[1;33m,\u001b[0m \u001b[0mrepnum\u001b[0m \u001b[1;33m=\u001b[0m \u001b[0mfind_repeats\u001b[0m\u001b[1;33m(\u001b[0m\u001b[0mr\u001b[0m\u001b[1;33m)\u001b[0m\u001b[1;33m\u001b[0m\u001b[0m\n\u001b[0m\u001b[0;32m   1979\u001b[0m     \u001b[1;32mif\u001b[0m \u001b[0mrepnum\u001b[0m\u001b[1;33m.\u001b[0m\u001b[0msize\u001b[0m \u001b[1;33m!=\u001b[0m \u001b[1;36m0\u001b[0m\u001b[1;33m:\u001b[0m\u001b[1;33m\u001b[0m\u001b[0m\n\u001b[0;32m   1980\u001b[0m         \u001b[1;31m# Correction for repeated elements.\u001b[0m\u001b[1;33m\u001b[0m\u001b[1;33m\u001b[0m\u001b[0m\n",
      "\u001b[1;32mC:\\Python27\\lib\\site-packages\\scipy\\stats\\stats.pyc\u001b[0m in \u001b[0;36mfind_repeats\u001b[1;34m(arr)\u001b[0m\n\u001b[0;32m    257\u001b[0m \u001b[1;33m\u001b[0m\u001b[0m\n\u001b[0;32m    258\u001b[0m     \"\"\"\n\u001b[1;32m--> 259\u001b[1;33m     \u001b[0mv1\u001b[0m\u001b[1;33m,\u001b[0m\u001b[0mv2\u001b[0m\u001b[1;33m,\u001b[0m \u001b[0mn\u001b[0m \u001b[1;33m=\u001b[0m \u001b[0mfutil\u001b[0m\u001b[1;33m.\u001b[0m\u001b[0mdfreps\u001b[0m\u001b[1;33m(\u001b[0m\u001b[0marr\u001b[0m\u001b[1;33m)\u001b[0m\u001b[1;33m\u001b[0m\u001b[0m\n\u001b[0m\u001b[0;32m    260\u001b[0m     \u001b[1;32mreturn\u001b[0m \u001b[0mv1\u001b[0m\u001b[1;33m[\u001b[0m\u001b[1;33m:\u001b[0m\u001b[0mn\u001b[0m\u001b[1;33m]\u001b[0m\u001b[1;33m,\u001b[0m\u001b[0mv2\u001b[0m\u001b[1;33m[\u001b[0m\u001b[1;33m:\u001b[0m\u001b[0mn\u001b[0m\u001b[1;33m]\u001b[0m\u001b[1;33m\u001b[0m\u001b[0m\n\u001b[0;32m    261\u001b[0m \u001b[1;33m\u001b[0m\u001b[0m\n",
      "\u001b[1;31mValueError\u001b[0m: failed to create intent(cache|hide)|optional array-- must have defined dimensions but got (0,)"
     ]
    },
    {
     "data": {
      "image/png": "[encoded data removed]",
      "text/plain": [
       "<matplotlib.figure.Figure at 0x6b5c630>"
      ]
     },
     "metadata": {},
     "output_type": "display_data"
    }
   ],
   "source": [
    "trainSize = xgl_results[\"trainSize\"]\n",
    "fig = plt.figure()\n",
    "fig.suptitle('Known Word Accuracy by training set size', fontsize=20)\n",
    "plt.xlabel('Training set size', fontsize=18)\n",
    "plt.ylabel('Accuracy', fontsize=16)\n",
    "plt.legend( loc='upper left', numpoints = 1 )\n",
    "\n",
    "xglKnowAccMean= [ np.mean(x) for x in xgl_results[\"knownAccMatrix\"] ]\n",
    "cstKnowAccMean= [ np.mean(x) for x in cst_results[\"knownAccMatrix\"] ]\n",
    "lgKnowAccMean= [ np.mean(x) for x in lg_results[\"knownAccMatrix\"] ]\n",
    "\n",
    "KnowAcc = pd.DataFrame(cstKnowAccMean,index=trainSize, columns=['CST'])\n",
    "KnowAcc['LemmaGen'] = lgKnowAccMean\n",
    "KnowAcc['XGL'] = xglKnowAccMean\n",
    "print KnowAcc\n",
    "\n",
    "plt.plot(trainSize,[ np.mean(x) for x in cst_results[\"knownAccMatrix\"]],\"b-.v\", label='CST',)\n",
    "plt.plot(trainSize,[ np.mean(x) for x in lg_results[\"knownAccMatrix\"]],\"g--o\",label='LemmaGen',)\n",
    "plt.plot(trainSize,[ np.mean(x) for x in xgl_results[\"knownAccMatrix\"]],\"r->\",label='XGL' )\n",
    "plt.legend( loc='upper left', numpoints = 1 )\n",
    "plt.grid(True)\n",
    "plt.savefig(rLoc+\"CST-LG-XGL-Known-Acc-val.png\")\n",
    "\n",
    "wilc_XGL_CST = [wilcoxon(xgl_results[\"knownAccMatrix\"][i],cst_results[\"knownAccMatrix\"][i]) for i in range(len(trainSize))]\n",
    "# print \"wilc_XGL_CST :%s\" % [(i[0],i[1]) for i in wilc_XGL_CST]\n",
    "wilc_XGL_LG = [wilcoxon(xgl_results[\"knownAccMatrix\"][i],lg_results[\"knownAccMatrix\"][i]) for i in range(len(trainSize))]\n",
    "# print \"wilc_XGL_LG :%s\" % [(i[0],i[1]) for i in wilc_XGL_LG]\n",
    "wilc_CST_LG = [wilcoxon(cst_results[\"knownAccMatrix\"][i],lg_results[\"knownAccMatrix\"][i]) for i in range(len(trainSize))]\n",
    "# print \"wilc_CST_LG :%s\" % [(i[0],i[1]) for i in wilc_CST_LG]\n",
    "\n",
    "AccKnownWilcoxon = pd.DataFrame([i[1] for i in wilc_XGL_LG], index=trainSize, columns=['XGL-LemmaGen'])\n",
    "AccKnownWilcoxon['LemmaGen-CST'] = [i[1] for i in wilc_CST_LG]\n",
    "AccKnownWilcoxon['XGL-CST'] = [i[1] for i in wilc_XGL_CST]\n",
    "print AccKnownWilcoxon"
   ]
  },
  {
   "cell_type": "markdown",
   "metadata": {},
   "source": [
    "##Known Word Accuracy on General Set"
   ]
  },
  {
   "cell_type": "code",
   "execution_count": null,
   "metadata": {
    "collapsed": false
   },
   "outputs": [],
   "source": [
    "trainSize = xgl_results[\"trainSize\"]\n",
    "fig = plt.figure()\n",
    "fig.suptitle('Known Word Accuracy by training set size', fontsize=20)\n",
    "plt.xlabel('Training set size', fontsize=18)\n",
    "plt.ylabel('Accuracy', fontsize=16)\n",
    "plt.legend( loc='upper left', numpoints = 1 )\n",
    "\n",
    "xglTFKnowAccMean= [ np.mean(x) for x in xgl_results[\"knownTFAccMatrix\"] ]\n",
    "cstTFKnowAccMean= [ np.mean(x) for x in cst_results[\"knownTFAccMatrix\"] ]\n",
    "lgTFKnowAccMean= [ np.mean(x) for x in lg_results[\"knownTFAccMatrix\"] ]\n",
    "\n",
    "KnowAcc = pd.DataFrame(cstTFKnowAccMean,index=trainSize, columns=['CST'])\n",
    "KnowAcc['LemmaGen'] = lgTFKnowAccMean\n",
    "KnowAcc['XGL'] = xglTFKnowAccMean\n",
    "print KnowAcc\n",
    "\n",
    "\n",
    "plt.plot(trainSize,[ np.mean(x) for x in cst_results[\"knownTFAccMatrix\"]],\"b-.v\", label='CST',)\n",
    "plt.plot(trainSize,[ np.mean(x) for x in lg_results[\"knownTFAccMatrix\"]],\"g--o\",label='LemmaGen',)\n",
    "plt.plot(trainSize,[ np.mean(x) for x in xgl_results[\"knownTFAccMatrix\"]],\"r->\",label='XGL' )\n",
    "plt.legend( loc='upper left', numpoints = 1 )\n",
    "plt.grid(True)\n",
    "plt.savefig(rLoc+\"CST-LG-XGL-Known-Acc-TF-val.png\")\n",
    "\n",
    "wilc_XGL_CST = [wilcoxon(xgl_results[\"knownTFAccMatrix\"][i],cst_results[\"knownTFAccMatrix\"][i]) for i in range(len(trainSize))]\n",
    "# print \"wilc_XGL_CST :%s\" % [(i[0],i[1]) for i in wilc_XGL_CST]\n",
    "wilc_XGL_LG = [wilcoxon(xgl_results[\"knownTFAccMatrix\"][i],lg_results[\"knownTFAccMatrix\"][i]) for i in range(len(trainSize))]\n",
    "# print \"wilc_XGL_LG :%s\" % [(i[0],i[1]) for i in wilc_XGL_LG]\n",
    "wilc_CST_LG = [wilcoxon(cst_results[\"knownTFAccMatrix\"][i],lg_results[\"knownTFAccMatrix\"][i]) for i in range(len(trainSize))]\n",
    "# print \"wilc_CST_LG :%s\" % [(i[0],i[1]) for i in wilc_CST_LG]\n",
    "\n",
    "AccKnownWilcoxon = pd.DataFrame([i[1] for i in wilc_XGL_LG], index=trainSize, columns=['XGL-LemmaGen'])\n",
    "AccKnownWilcoxon['LemmaGen-CST'] = [i[1] for i in wilc_CST_LG]\n",
    "AccKnownWilcoxon['XGL-CST'] = [i[1] for i in wilc_XGL_CST]\n",
    "print AccKnownWilcoxon"
   ]
  },
  {
   "cell_type": "markdown",
   "metadata": {},
   "source": [
    "##OoV Accuracy Rates on Testing Set"
   ]
  },
  {
   "cell_type": "code",
   "execution_count": null,
   "metadata": {
    "collapsed": false
   },
   "outputs": [],
   "source": [
    "trainSize = xgl_results[\"trainSize\"]\n",
    "fig = plt.figure()\n",
    "fig.suptitle('OoV Word Accuracy by training set size', fontsize=20)\n",
    "plt.xlabel('Training set size', fontsize=18)\n",
    "plt.ylabel('Accuracy', fontsize=16)\n",
    "plt.legend( loc='upper left', numpoints = 1 )\n",
    "\n",
    "xglunKnowAccMean= [ np.mean(x) for x in xgl_results[\"unknownAccMatrix\"] ]\n",
    "cstunKnowAccMean= [ np.mean(x) for x in cst_results[\"unknownAccMatrix\"] ]\n",
    "lgunKnowAccMean= [ np.mean(x) for x in lg_results[\"unknownAccMatrix\"] ]\n",
    "\n",
    "UnKnowAcc = pd.DataFrame(cstunKnowAccMean,index=trainSize, columns=['CST'])\n",
    "UnKnowAcc['LemmaGen'] = lgunKnowAccMean\n",
    "UnKnowAcc['XGL'] = xglunKnowAccMean\n",
    "print UnKnowAcc\n",
    "\n",
    "plt.plot(trainSize,[ np.mean(x) for x in cst_results[\"unknownAccMatrix\"]],\"b-.v\", label='CST',)\n",
    "plt.plot(trainSize,[ np.mean(x) for x in lg_results[\"unknownAccMatrix\"]],\"g--o\",label='LemmaGen',)\n",
    "plt.plot(trainSize,[ np.mean(x) for x in xgl_results[\"unknownAccMatrix\"]],\"r->\",label='XGL' )\n",
    "plt.legend( loc='upper left', numpoints = 1 )\n",
    "plt.grid(True)\n",
    "plt.savefig(rLoc+\"CST-LG-XGL-OOV-Acc-val.png\")\n",
    "\n",
    "wilc_XGL_CST = [wilcoxon(xgl_results[\"unknownAccMatrix\"][i],cst_results[\"unknownAccMatrix\"][i]) for i in range(len(trainSize))]\n",
    "# print \"wilc_XGL_CST :%s\" % [(i[0],i[1]) for i in wilc_XGL_CST]\n",
    "wilc_XGL_LG = [wilcoxon(xgl_results[\"unknownAccMatrix\"][i],lg_results[\"unknownAccMatrix\"][i]) for i in range(len(trainSize))]\n",
    "# print \"wilc_XGL_LG :%s\" % [(i[0],i[1]) for i in wilc_XGL_LG]\n",
    "wilc_CST_LG = [wilcoxon(cst_results[\"unknownAccMatrix\"][i],lg_results[\"unknownAccMatrix\"][i]) for i in range(len(trainSize))]\n",
    "# print \"wilc_CST_LG :%s\" % [(i[0],i[1]) for i in wilc_CST_LG]\n",
    "\n",
    "AccUnKnownWilcoxon = pd.DataFrame([i[1] for i in wilc_XGL_LG], index=trainSize, columns=['XGL-LemmaGen'])\n",
    "AccUnKnownWilcoxon['LemmaGen-CST'] = [i[1] for i in wilc_CST_LG]\n",
    "AccUnKnownWilcoxon['XGL-CST'] = [i[1] for i in wilc_XGL_CST]\n",
    "print AccUnKnownWilcoxon"
   ]
  },
  {
   "cell_type": "markdown",
   "metadata": {},
   "source": [
    "#OoV Accuracy Rates on General Set"
   ]
  },
  {
   "cell_type": "code",
   "execution_count": null,
   "metadata": {
    "collapsed": false
   },
   "outputs": [],
   "source": [
    "trainSize = xgl_results[\"trainSize\"]\n",
    "fig = plt.figure()\n",
    "fig.suptitle('OoV Word Accuracy by training set size', fontsize=20)\n",
    "plt.xlabel('Training set size', fontsize=18)\n",
    "plt.ylabel('Accuracy', fontsize=16)\n",
    "plt.legend( loc='upper left', numpoints = 1 )\n",
    "\n",
    "xglunKnowAccMean= [ np.mean(x) for x in xgl_results[\"unknownTFAccMatrix\"] ]\n",
    "cstunKnowAccMean= [ np.mean(x) for x in cst_results[\"unknownTFAccMatrix\"] ]\n",
    "lgunKnowAccMean= [ np.mean(x) for x in lg_results[\"unknownTFAccMatrix\"] ]\n",
    "\n",
    "UnKnowAcc = pd.DataFrame(cstunKnowAccMean,index=trainSize, columns=['CST'])\n",
    "UnKnowAcc['LemmaGen'] = lgunKnowAccMean\n",
    "UnKnowAcc['XGL'] = xglunKnowAccMean\n",
    "print UnKnowAcc\n",
    "\n",
    "plt.plot(trainSize,[ np.mean(x) for x in cst_results[\"unknownTFAccMatrix\"]],\"b-.v\", label='CST',)\n",
    "plt.plot(trainSize,[ np.mean(x) for x in lg_results[\"unknownTFAccMatrix\"]],\"g--o\",label='LemmaGen',)\n",
    "plt.plot(trainSize,[ np.mean(x) for x in xgl_results[\"unknownTFAccMatrix\"]],\"r->\",label='XGL' )\n",
    "plt.legend( loc='upper left', numpoints = 1 )\n",
    "plt.grid(True)\n",
    "plt.savefig(rLoc+\"CST-LG-XGL-OOV-Acc-TF-val.png\")\n",
    "\n",
    "wilc_XGL_CST = [wilcoxon(xgl_results[\"unknownTFAccMatrix\"][i],cst_results[\"unknownTFAccMatrix\"][i]) for i in range(len(trainSize))]\n",
    "# print \"wilc_XGL_CST :%s\" % [(i[0],i[1]) for i in wilc_XGL_CST]\n",
    "wilc_XGL_LG = [wilcoxon(xgl_results[\"unknownTFAccMatrix\"][i],lg_results[\"unknownTFAccMatrix\"][i]) for i in range(len(trainSize))]\n",
    "# print \"wilc_XGL_LG :%s\" % [(i[0],i[1]) for i in wilc_XGL_LG]\n",
    "wilc_CST_LG = [wilcoxon(cst_results[\"unknownTFAccMatrix\"][i],lg_results[\"unknownTFAccMatrix\"][i]) for i in range(len(trainSize))]\n",
    "# print \"wilc_CST_LG :%s\" % [(i[0],i[1]) for i in wilc_CST_LG]\n",
    "AccUnKnownWilcoxon = pd.DataFrame([i[1] for i in wilc_XGL_LG], index=trainSize, columns=['XGL-LemmaGen'])\n",
    "AccUnKnownWilcoxon['LemmaGen-CST'] = [i[1] for i in wilc_CST_LG]\n",
    "AccUnKnownWilcoxon['XGL-CST'] = [i[1] for i in wilc_XGL_CST]\n",
    "print AccUnKnownWilcoxon"
   ]
  },
  {
   "cell_type": "markdown",
   "metadata": {},
   "source": [
    "##Training Durations"
   ]
  },
  {
   "cell_type": "code",
   "execution_count": null,
   "metadata": {
    "collapsed": false
   },
   "outputs": [],
   "source": [
    "trainSize = xgl_results[\"trainSize\"]\n",
    "fig = plt.figure()\n",
    "fig.suptitle('Training duration (ms/word) by training set size', fontsize=20)\n",
    "plt.xlabel('Training set size', fontsize=18)\n",
    "plt.ylabel('Duration (s)', fontsize=16)\n",
    "plt.legend( loc='upper left', numpoints = 1 )\n",
    "f = lambda x,y : x/y*1000\n",
    "plt.plot(trainSize,map(f,[ np.mean(x) for x in cst_results[\"trainDurationMatrix\"]],trainSize),\"b-.v\", label='CST',)\n",
    "plt.plot(trainSize,map(f,[ np.mean(x) for x in lg_results[\"trainDurationMatrix\"]],trainSize),\"g--o\",label='LemmaGen',)\n",
    "plt.plot(trainSize,map(f,[ np.mean(x) for x in xgl_results[\"trainDurationMatrix\"]],trainSize),\"r->\",label='XGL' )\n",
    "plt.legend( loc='upper left', numpoints = 1 )\n",
    "plt.grid(True)\n",
    "plt.savefig(rLoc+\"CST-LG-XGL-TrainDur-val.png\")\n",
    "\n",
    "xgltrainDurationMean= map(f,[ np.mean(x) for x in xgl_results[\"trainDurationMatrix\"]],trainSize)\n",
    "csttrainDurationMean= map(f,[ np.mean(x) for x in cst_results[\"trainDurationMatrix\"]],trainSize)\n",
    "lgtrainDurationMean= map(f,[ np.mean(x) for x in lg_results[\"trainDurationMatrix\"]],trainSize)\n",
    "\n",
    "UnKnowAcc = pd.DataFrame(csttrainDurationMean,index=trainSize, columns=['CST'])\n",
    "UnKnowAcc['LemmaGen'] = lgtrainDurationMean\n",
    "UnKnowAcc['XGL'] = xgltrainDurationMean\n",
    "print UnKnowAcc\n",
    "\n",
    "print i\n",
    "print [1000./trainSize[3]*x for x in xgl_results[\"trainDurationMatrix\"][3]]\n",
    "wilc_XGL_CST = [wilcoxon([1000./trainSize[i]*x for x in xgl_results[\"trainDurationMatrix\"][i]],[1000./trainSize[i]*x for x in cst_results[\"trainDurationMatrix\"][i]]) for i in range(len(trainSize))]\n",
    "# print \"wilc_XGL_CST :%s\" % [(i[0],i[1]) for i in wilc_XGL_CST]\n",
    "wilc_XGL_LG = [wilcoxon([1000./trainSize[i]*x for x in xgl_results[\"trainDurationMatrix\"][i]],[1000./trainSize[i]*x for x in lg_results[\"trainDurationMatrix\"][i]]) for i in range(len(trainSize))]\n",
    "# print \"wilc_XGL_LG :%s\" % [(i[0],i[1]) for i in wilc_XGL_LG]\n",
    "wilc_CST_LG = [wilcoxon([1000./trainSize[i]*x for x in cst_results[\"trainDurationMatrix\"][i]],[1000./trainSize[i]*x for x in lg_results[\"trainDurationMatrix\"][i]]) for i in range(len(trainSize))]\n",
    "# print \"wilc_CST_LG :%s\" % [(i[0],i[1]) for i in wilc_CST_LG]\n",
    "TrainDurationWilcoxon = pd.DataFrame([i[1] for i in wilc_XGL_LG], index=trainSize, columns=['XGL-LemmaGen'])\n",
    "TrainDurationWilcoxon['LemmaGen-CST'] = [i[1] for i in wilc_CST_LG]\n",
    "TrainDurationWilcoxon['XGL-CST'] = [i[1] for i in wilc_XGL_CST]\n",
    "print TrainDurationWilcoxon"
   ]
  },
  {
   "cell_type": "code",
   "execution_count": null,
   "metadata": {
    "collapsed": false
   },
   "outputs": [],
   "source": [
    "trainSize = xgl_results[\"trainSize\"]\n",
    "fig = plt.figure()\n",
    "fig.suptitle('Training duration by training set size', fontsize=20)\n",
    "plt.xlabel('Training set size', fontsize=18)\n",
    "plt.ylabel('Duration (ms/word)', fontsize=16)\n",
    "plt.legend( loc='upper left', numpoints = 1 )\n",
    "\n",
    "f = lambda x,y : x/y*1000\n",
    "# plt.plot(trainSize,map(f,[ np.mean(x) for x in cst_results[\"trainDurationMatrix\"]],trainSize),\"b-.v\", label='CST',)\n",
    "plt.plot(trainSize,map(f,[ np.mean(x) for x in lg_results[\"trainDurationMatrix\"]],trainSize),\"g--o\",label='LemmaGen',)\n",
    "plt.plot(trainSize,map(f,[ np.mean(x) for x in xgl_results[\"trainDurationMatrix\"]],trainSize),\"r->\",label='XGL' )\n",
    "plt.legend( loc='upper left', numpoints = 1 )\n",
    "plt.grid(True)\n",
    "plt.savefig(rLoc+\"LG-XGL-TrainDur-val.png\")"
   ]
  },
  {
   "cell_type": "markdown",
   "metadata": {},
   "source": [
    "##Lemmatisation Durations"
   ]
  },
  {
   "cell_type": "code",
   "execution_count": null,
   "metadata": {
    "collapsed": false
   },
   "outputs": [],
   "source": [
    "trainSize = xgl_results[\"trainSize\"]\n",
    "fig = plt.figure()\n",
    "fig.suptitle('Lemmatisation duration by training set size', fontsize=20)\n",
    "plt.xlabel('Training set size', fontsize=18)\n",
    "plt.ylabel('Duration (ms/word)', fontsize=16)\n",
    "plt.legend( loc='upper left', numpoints = 1 )\n",
    "\n",
    "f = lambda x,y : x/y*1000\n",
    "\n",
    "plt.plot(trainSize,map(f,[ np.mean(x) for x in cst_results[\"lemmatiseDurationMatrix\"]],[ np.mean(x) for x in cst_results['testSetSizeMatrix']]),\"b-.v\", label='CST',)\n",
    "plt.plot(trainSize,map(f,[ np.mean(x) for x in lg_results[\"lemmatiseDurationMatrix\"]],[ np.mean(x) for x in lg_results['testSetSizeMatrix']]),\"g--o\",label='LemmaGen',)\n",
    "plt.plot(trainSize,map(f,[ np.mean(x) for x in xgl_results[\"lemmatiseDurationMatrix\"]],[ np.mean(x) for x in xgl_results['testSetSizeMatrix']]),\"r->\",label='XGL' )\n",
    "plt.legend( loc='upper left', numpoints = 1 )\n",
    "plt.grid(True)\n",
    "plt.savefig(rLoc+\"CST-LG-XGL-LemDur-eval.png\")\n",
    "\n",
    "xgltrainDurationMean= map(f,[ np.mean(x) for x in xgl_results[\"lemmatiseDurationMatrix\"]],[ np.mean(x) for x in xgl_results['testSetSizeMatrix']])\n",
    "csttrainDurationMean= map(f,[ np.mean(x) for x in cst_results[\"lemmatiseDurationMatrix\"]],[ np.mean(x) for x in cst_results['testSetSizeMatrix']])\n",
    "lgtrainDurationMean= map(f,[ np.mean(x) for x in lg_results[\"lemmatiseDurationMatrix\"]],[ np.mean(x) for x in lg_results['testSetSizeMatrix']])\n",
    "\n",
    "UnKnowAcc = pd.DataFrame(csttrainDurationMean,index=trainSize, columns=['CST'])\n",
    "UnKnowAcc['LemmaGen'] = lgtrainDurationMean\n",
    "UnKnowAcc['XGL'] = xgltrainDurationMean\n",
    "print UnKnowAcc\n",
    "\n",
    "xglLDM = [map(f,xgl_results[\"lemmatiseDurationMatrix\"][i],xgl_results['testSetSizeMatrix'][i]) for i in  range(len(trainSize))]\n",
    "cstLDM = [map(f,cst_results[\"lemmatiseDurationMatrix\"][i],cst_results['testSetSizeMatrix'][i]) for i in  range(len(trainSize))]\n",
    "lgLDM = [map(f,lg_results[\"lemmatiseDurationMatrix\"][i],lg_results['testSetSizeMatrix'][i]) for i in  range(len(trainSize))]\n",
    "# print xglLDM\n",
    "print [1000./trainSize[3]*x for x in xgl_results[\"lemmatiseDurationMatrix\"][3]]\n",
    "wilc_XGL_CST = [wilcoxon(xglLDM[i],cstLDM[i]) for i in range(len(trainSize))]\n",
    "# print \"wilc_XGL_CST :%s\" % [(i[0],i[1]) for i in wilc_XGL_CST]\n",
    "wilc_XGL_LG = [wilcoxon(xglLDM[i],lgLDM[i]) for i in range(len(trainSize))]\n",
    "# print \"wilc_XGL_LG :%s\" % [(i[0],i[1]) for i in wilc_XGL_LG]\n",
    "wilc_CST_LG = [wilcoxon(cstLDM[i],lgLDM[i]) for i in range(len(trainSize))]\n",
    "# print \"wilc_CST_LG :%s\" % [(i[0],i[1]) for i in wilc_CST_LG]\n",
    "lemmDurationWilcoxon = pd.DataFrame([i[1] for i in wilc_XGL_LG], index=trainSize, columns=['XGL-LemmaGen'])\n",
    "lemmDurationWilcoxon['LemmaGen-CST'] = [i[1] for i in wilc_CST_LG]\n",
    "lemmDurationWilcoxon['XGL-CST'] = [i[1] for i in wilc_XGL_CST]\n",
    "print lemmDurationWilcoxon"
   ]
  },
  {
   "cell_type": "code",
   "execution_count": null,
   "metadata": {
    "collapsed": false
   },
   "outputs": [],
   "source": [
    "trainSize = xgl_results[\"trainSize\"]\n",
    "fig = plt.figure()\n",
    "fig.suptitle('Lemmatisation duration by training set size', fontsize=20)\n",
    "plt.xlabel('Training set size', fontsize=18)\n",
    "plt.ylabel('Duration (us/word)', fontsize=16)\n",
    "plt.legend( loc='upper left', numpoints = 1 )\n",
    "f = lambda x,y : x/y*1000000\n",
    "\n",
    "plt.plot(trainSize,map(f,[ np.mean(x) for x in cst_results[\"lemmatiseDurationMatrix\"]],[ np.mean(x) for x in cst_results['testSetSizeMatrix']]),\"b-.v\", label='CST',)\n",
    "plt.plot(trainSize,map(f,[ np.mean(x) for x in lg_results[\"lemmatiseDurationMatrix\"]],[ np.mean(x) for x in lg_results['testSetSizeMatrix']]),\"g--o\",label='LemmaGen',)\n",
    "# plt.plot(trainSize,map(f,[ np.mean(x) for x in xgl_results[\"lemmatiseDurationMatrix\"]],[ np.mean(x) for x in xgl_results['testSetSizeMatrix']]),\"r->\",label='XGL' )\n",
    "plt.legend( loc='upper left', numpoints = 1 )\n",
    "plt.grid(True)\n",
    "plt.savefig(rLoc+\"CST-LG-LemDur-val.png\")"
   ]
  },
  {
   "cell_type": "markdown",
   "metadata": {},
   "source": [
    "##Training Memory"
   ]
  },
  {
   "cell_type": "code",
   "execution_count": null,
   "metadata": {
    "collapsed": false
   },
   "outputs": [],
   "source": [
    "trainSize = xgl_results[\"trainSize\"]\n",
    "fig = plt.figure()\n",
    "fig.suptitle('Training Memory by training set size', fontsize=20)\n",
    "plt.xlabel('Training set size', fontsize=18)\n",
    "plt.ylabel('Memory (KB/w)', fontsize=16)\n",
    "plt.legend( loc='upper left', numpoints = 1 )\n",
    "\n",
    "f = lambda x,y : x/y\n",
    "\n",
    "plt.plot(trainSize,map(f,[ np.mean(x) for x in cst_results[\"trainMemoryMatrix\"]],trainSize),\"b-.v\", label='CST',)\n",
    "plt.plot(trainSize,map(f,[ np.mean(x) for x in lg_results[\"trainMemoryMatrix\"]],trainSize),\"g--o\",label='LemmaGen',)\n",
    "plt.plot(trainSize,map(f,[ np.mean(x) for x in xgl_results[\"trainMemoryMatrix\"]],trainSize),\"r->\",label='XGL' )\n",
    "plt.legend( loc='upper left', numpoints = 1 )\n",
    "plt.grid(True)\n",
    "plt.savefig(rLoc+\"CST-LG-XGL-TrainMemSize-val.png\")\n",
    "\n",
    "\n",
    "xgltrainMemoryMean= map(f,[ np.mean(x) for x in xgl_results[\"trainMemoryMatrix\"]],[ np.mean(x) for x in trainSize])\n",
    "csttrainMemoryMean= map(f,[ np.mean(x) for x in cst_results[\"trainMemoryMatrix\"]],[ np.mean(x) for x in trainSize])\n",
    "lgtrainMemoryMean= map(f,[ np.mean(x) for x in lg_results[\"trainMemoryMatrix\"]],[ np.mean(x) for x in trainSize])\n",
    "\n",
    "TrainMemory = pd.DataFrame(csttrainMemoryMean,index=trainSize, columns=['CST'])\n",
    "TrainMemory['LemmaGen'] = lgtrainMemoryMean\n",
    "TrainMemory['XGL'] = xgltrainMemoryMean\n",
    "print TrainMemory\n",
    "\n",
    "wilc_XGL_CST = [wilcoxon([1./trainSize[i]*x for x in xgl_results[\"trainMemoryMatrix\"][i]],[1./trainSize[i]*x for x in cst_results[\"trainMemoryMatrix\"][i]]) for i in range(len(trainSize))]\n",
    "# print \"wilc_XGL_CST :%s\" % [(i[0],i[1]) for i in wilc_XGL_CST]\n",
    "wilc_XGL_LG = [wilcoxon([1./trainSize[i]*x for x in xgl_results[\"trainMemoryMatrix\"][i]],[1./trainSize[i]*x for x in lg_results[\"trainMemoryMatrix\"][i]]) for i in range(len(trainSize))]\n",
    "# print \"wilc_XGL_LG :%s\" % [(i[0],i[1]) for i in wilc_XGL_LG]\n",
    "wilc_CST_LG = [wilcoxon([1./trainSize[i]*x for x in cst_results[\"trainMemoryMatrix\"][i]],[1./trainSize[i]*x for x in lg_results[\"trainMemoryMatrix\"][i]]) for i in range(len(trainSize))]\n",
    "# print \"wilc_CST_LG :%s\" % [(i[0],i[1]) for i in wilc_CST_LG]\n",
    "TrainMemoryWilcoxon = pd.DataFrame([i[1] for i in wilc_XGL_LG], index=trainSize, columns=['XGL-LemmaGen'])\n",
    "TrainMemoryWilcoxon['LemmaGen-CST'] = [i[1] for i in wilc_CST_LG]\n",
    "TrainMemoryWilcoxon['XGL-CST'] = [i[1] for i in wilc_XGL_CST]\n",
    "print TrainMemoryWilcoxon"
   ]
  },
  {
   "cell_type": "code",
   "execution_count": null,
   "metadata": {
    "collapsed": false
   },
   "outputs": [],
   "source": [
    "trainSize = xgl_results[\"trainSize\"]\n",
    "fig = plt.figure()\n",
    "fig.suptitle('Lemmatisation Memory by training set size', fontsize=20)\n",
    "plt.xlabel('Training set size', fontsize=18)\n",
    "plt.ylabel('Memory (KB/word)', fontsize=16)\n",
    "plt.legend( loc='upper left', numpoints = 1 )\n",
    "\n",
    "\n",
    "f = lambda x,y : x/y\n",
    "\n",
    "plt.plot(trainSize,map(f,[ np.mean(x) for x in cst_results[\"lemmatiseMemoryMatrix\"]],trainSize),\"b-.v\", label='CST',)\n",
    "plt.plot(trainSize,map(f,[ np.mean(x) for x in lg_results[\"lemmatiseMemoryMatrix\"]],trainSize),\"g--o\",label='LemmaGen',)\n",
    "plt.plot(trainSize,map(f,[ np.mean(x) for x in xgl_results[\"lemmatiseMemoryMatrix\"]],trainSize),\"r->\",label='XGL' )\n",
    "plt.legend( loc='upper left', numpoints = 1 )\n",
    "plt.grid(True)\n",
    "plt.savefig(rLoc+\"CST-LG-XGL-LemMem-val.png\")\n",
    "\n",
    "\n",
    "xglLemmMemoryMean= map(f,[ np.mean(x) for x in xgl_results[\"lemmatiseMemoryMatrix\"]],[ np.mean(x) for x in trainSize])\n",
    "cstLemmMemoryMean= map(f,[ np.mean(x) for x in cst_results[\"lemmatiseMemoryMatrix\"]],[ np.mean(x) for x in trainSize])\n",
    "lgLemmMemoryMean= map(f,[ np.mean(x) for x in lg_results[\"lemmatiseMemoryMatrix\"]],[ np.mean(x) for x in trainSize])\n",
    "\n",
    "TrainMemory = pd.DataFrame(cstLemmMemoryMean,index=trainSize, columns=['CST'])\n",
    "TrainMemory['LemmaGen'] = lgLemmMemoryMean\n",
    "TrainMemory['XGL'] = xglLemmMemoryMean\n",
    "print TrainMemory\n",
    "\n",
    "wilc_XGL_CST = [wilcoxon([1./trainSize[i]*x for x in xgl_results[\"lemmatiseMemoryMatrix\"][i]],[1./trainSize[i]*x for x in cst_results[\"lemmatiseMemoryMatrix\"][i]]) for i in range(len(trainSize))]\n",
    "# print \"wilc_XGL_CST :%s\" % [(i[0],i[1]) for i in wilc_XGL_CST]\n",
    "wilc_XGL_LG = [wilcoxon([1./trainSize[i]*x for x in xgl_results[\"lemmatiseMemoryMatrix\"][i]],[1./trainSize[i]*x for x in lg_results[\"lemmatiseMemoryMatrix\"][i]]) for i in range(len(trainSize))]\n",
    "# print \"wilc_XGL_LG :%s\" % [(i[0],i[1]) for i in wilc_XGL_LG]\n",
    "wilc_CST_LG = [wilcoxon([1./trainSize[i]*x for x in cst_results[\"lemmatiseMemoryMatrix\"][i]],[1./trainSize[i]*x for x in lg_results[\"lemmatiseMemoryMatrix\"][i]]) for i in range(len(trainSize))]\n",
    "# print \"wilc_CST_LG :%s\" % [(i[0],i[1]) for i in wilc_CST_LG]\n",
    "LemmMemoryWilcoxon = pd.DataFrame([i[1] for i in wilc_XGL_LG], index=trainSize, columns=['XGL-LemmaGen'])\n",
    "LemmMemoryWilcoxon['LemmaGen-CST'] = [i[1] for i in wilc_CST_LG]\n",
    "LemmMemoryWilcoxon['XGL-CST'] = [i[1] for i in wilc_XGL_CST]\n",
    "print LemmMemoryWilcoxon"
   ]
  },
  {
   "cell_type": "code",
   "execution_count": null,
   "metadata": {
    "collapsed": false
   },
   "outputs": [],
   "source": [
    "trainSize = xgl_results[\"trainSize\"]\n",
    "fig = plt.figure()\n",
    "fig.suptitle('Lemmatisation Memory by training set size', fontsize=20)\n",
    "plt.xlabel('Training set size', fontsize=18)\n",
    "plt.ylabel('Memory (KB/word)', fontsize=16)\n",
    "plt.legend( loc='upper left', numpoints = 1 )\n",
    "\n",
    "f = lambda x,y : x/y\n",
    "\n",
    "plt.plot(trainSize,map(f,[ np.mean(x) for x in cst_results[\"lemmatiseMemoryMatrix\"]],trainSize),\"b-.v\", label='CST',)\n",
    "plt.plot(trainSize,map(f,[ np.mean(x) for x in lg_results[\"lemmatiseMemoryMatrix\"]],trainSize),\"g--o\",label='LemmaGen',)\n",
    "# plt.plot(trainSize,map(f,[ np.mean(x) for x in xgl_results[\"lemmatiseMemoryMatrix\"]],trainSize),\"r->\",label='XGL' )\n",
    "\n",
    "plt.legend( loc='upper left', numpoints = 1 )\n",
    "plt.grid(True)\n",
    "plt.savefig(rLoc+\"CST-LG-LemMem-val.png\")"
   ]
  },
  {
   "cell_type": "markdown",
   "metadata": {
    "collapsed": true
   },
   "source": [
    "##Calculating the t and p values using the Wilcoxon signed rank test"
   ]
  },
  {
   "cell_type": "code",
   "execution_count": null,
   "metadata": {
    "collapsed": false
   },
   "outputs": [],
   "source": [
    "from scipy.stats import wilcoxon\n",
    "T_CSR_XGL=0\n",
    "p_CSR_XGL = 0\n",
    "# print xgl_results[\"blindAccMatrix\"][7]\n",
    "wilc_XGL_CST = [wilcoxon(xgl_results[\"blindAccMatrix\"][i],cst_results[\"blindAccMatrix\"][i]) for i in range(len(xgl_results[\"blindAccMatrix\"]))]\n",
    "# print \"wilc_XGL_CST :%s\" % [(i[0],i[1]) for i in wilc_XGL_CST]\n",
    "wilc_XGL_LG = [wilcoxon(xgl_results[\"blindAccMatrix\"][i],lg_results[\"blindAccMatrix\"][i]) for i in range(len(xgl_results[\"blindAccMatrix\"]))]\n",
    "# print \"wilc_XGL_LG :%s\" % [(i[0],i[1]) for i in wilc_XGL_LG]\n",
    "wilc_CST_LG = [wilcoxon(cst_results[\"blindAccMatrix\"][i],lg_results[\"blindAccMatrix\"][i]) for i in range(len(xgl_results[\"blindAccMatrix\"]))]\n",
    "# print \"wilc_CST_LG :%s\" % [(i[0],i[1]) for i in wilc_CST_LG]\n",
    "\n",
    "AccWilcoxon = pd.DataFrame([i[1] for i in wilc_XGL_LG], index=trainSize, columns=['XGL-LemmaGen'])\n",
    "AccWilcoxon['LemmaGen-CST'] = [i[1] for i in wilc_CST_LG]\n",
    "AccWilcoxon['XGL-CST'] = [i[1] for i in wilc_XGL_CST]\n",
    "print AccWilcoxon"
   ]
  },
  {
   "cell_type": "code",
   "execution_count": null,
   "metadata": {
    "collapsed": false
   },
   "outputs": [],
   "source": [
    "from scipy.stats import wilcoxon\n",
    "T_CSR_XGL=0\n",
    "p_CSR_XGL = 0\n",
    "# print xgl_results[\"blindTFAccMatrix\"][7]\n",
    "wilc_XGL_CST = [wilcoxon(xgl_results[\"blindTFAccMatrix\"][i],cst_results[\"blindTFAccMatrix\"][i]) for i in range(len(xgl_results[\"blindAccMatrix\"]))]\n",
    "# print \"wilc_XGL_CST :%s\" % [(i[0],i[1]) for i in wilc_XGL_CST]\n",
    "wilc_XGL_LG = [wilcoxon(xgl_results[\"blindTFAccMatrix\"][i],lg_results[\"blindTFAccMatrix\"][i]) for i in range(len(xgl_results[\"blindAccMatrix\"]))]\n",
    "# print \"wilc_XGL_LG :%s\" % [(i[0],i[1]) for i in wilc_XGL_LG]\n",
    "wilc_CST_LG = [wilcoxon(cst_results[\"blindTFAccMatrix\"][i],lg_results[\"blindTFAccMatrix\"][i]) for i in range(len(xgl_results[\"blindAccMatrix\"]))]\n",
    "# print \"wilc_CST_LG :%s\" % [(i[0],i[1]) for i in wilc_CST_LG]\n",
    "AccWilcoxonTF = pd.DataFrame([i[1] for i in wilc_XGL_CST], index=trainSize, columns=['CST-XGL'])\n",
    "AccWilcoxonTF['LemmaGen-XGL'] = [i[1] for i in wilc_XGL_LG]\n",
    "AccWilcoxonTF['LemmaGen-CST'] = [i[1] for i in wilc_CST_LG]\n",
    "print AccWilcoxonTF"
   ]
  },
  {
   "cell_type": "code",
   "execution_count": null,
   "metadata": {
    "collapsed": false
   },
   "outputs": [],
   "source": [
    "from scipy.stats import f_oneway\n",
    "T_CSR_XGL=0\n",
    "p_CSR_XGL = 0\n",
    "AccANOVA_XGL_CST_LG = [scipy.stats.f_oneway(xgl_results[\"blindAccMatrix\"][i],cst_results[\"blindAccMatrix\"][i],lg_results[\"blindAccMatrix\"][i]) for i in range(len(xgl_results[\"blindAccMatrix\"]))]\n",
    "print [i[1] for i in AccANOVA_XGL_CST_LG]\n"
   ]
  },
  {
   "cell_type": "code",
   "execution_count": null,
   "metadata": {
    "collapsed": false
   },
   "outputs": [],
   "source": [
    "from scipy.stats import f_oneway\n",
    "T_CSR_XGL=0\n",
    "p_CSR_XGL = 0\n",
    "AccANOVA_XGL_CST_LG_TF = [scipy.stats.f_oneway(xgl_results[\"blindTFAccMatrix\"][i],cst_results[\"blindTFAccMatrix\"][i],lg_results[\"blindTFAccMatrix\"][i]) for i in range(len(trainSize))]\n",
    "\n",
    "\n",
    "AccAnova = pd.DataFrame([i[1] for i in AccANOVA_XGL_CST_LG_TF], index=trainSize, columns=['Strict 10-Fold'])\n",
    "AccAnova['Test Corpus'] = [i[1] for i in AccANOVA_XGL_CST_LG]\n",
    "print AccAnova\n"
   ]
  },
  {
   "cell_type": "markdown",
   "metadata": {},
   "source": [
    "##Analysis on the F-Measure ANOVA"
   ]
  },
  {
   "cell_type": "code",
   "execution_count": null,
   "metadata": {
    "collapsed": false
   },
   "outputs": [],
   "source": [
    "from scipy.stats import f_oneway\n",
    "T_CSR_XGL=0\n",
    "p_CSR_XGL = 0\n",
    "FANOVA_XGL_CST_LG = [scipy.stats.f_oneway(xgl_results[\"fMeasureMatrix\"][i],cst_results[\"fMeasureMatrix\"][i],lg_results[\"fMeasureMatrix\"][i]) for i in range(len(xgl_results[\"fMeasureMatrix\"]))]\n",
    "FANOVA_XGL_CST_LG_TF = [scipy.stats.f_oneway(xgl_results[\"TFfMeasureMatrix\"][i],cst_results[\"TFfMeasureMatrix\"][i],lg_results[\"TFfMeasureMatrix\"][i]) for i in range(len(xgl_results[\"TFfMeasureMatrix\"]))]\n",
    "FAnova = pd.DataFrame([i[1] for i in FANOVA_XGL_CST_LG_TF], index=trainSize, columns=['Strict 10-Fold'])\n",
    "FAnova['Test Corpus'] = [i[1] for i in FANOVA_XGL_CST_LG]\n",
    "print FAnova\n"
   ]
  }
 ],
 "metadata": {
  "kernelspec": {
   "display_name": "Python 2",
   "language": "python",
   "name": "python2"
  },
  "language_info": {
   "codemirror_mode": {
    "name": "ipython",
    "version": 2
   },
   "file_extension": ".py",
   "mimetype": "text/x-python",
   "name": "python",
   "nbconvert_exporter": "python",
   "pygments_lexer": "ipython2",
   "version": "2.7.10"
  }
 },
 "nbformat": 4,
 "nbformat_minor": 0
}
